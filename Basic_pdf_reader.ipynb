{
 "cells": [
  {
   "cell_type": "markdown",
   "metadata": {},
   "source": [
    "## Read pdf file from local"
   ]
  },
  {
   "cell_type": "code",
   "execution_count": 3,
   "metadata": {},
   "outputs": [
    {
     "name": "stdout",
     "output_type": "stream",
     "text": [
      "['Decree No (43) for 2013 regarding the\\nDetermination of the Increase in Rent for Properties in the Emirate of Dubai\\nWe, Mohammed Bin Rashied Al Maktoum, Ruler of Dubai\\nAfter perusal of Law No (9) for 2004 regarding Dubai International Financial Center and\\namendments;\\nLaw No (16) for 2007 regarding establishment of the Real Estate Regulatory Agency;\\nLaw No (26) for 2007 regarding Regulation the Relationship between Landlords and\\nTenants of Properties in the Emirate of Dubai and its amendments;\\nDecree No (22) for 2009 regarding Private Development Zones in the Emirate of Dubai;\\nDecree No (2) for 2011 regarding Rents in the Emirate of Dubai;\\nDecree No (26) for 2013 regarding Rental Disputes settlement Center in the Emirate of\\nDubai, and\\nLegislation regulating free zones in the Emirate of Dubai,\\nDecided the following:\\nPercentage of Increase\\nArticle (1)\\nThe maximum rent increase percentage of properties in the Emirate of Dubai shall be\\ndetermined at renewal of lease as flows:\\nA. Without any increase in the rental value for property unit if the rent less than 10% of\\nthe average similar rent.\\nB. 5% of the rental value of the property unit if the rent less between 11% to 20% of the\\naverage similar rent.\\nC. 10% of the rental value of the property unit if the rent less between 21% to 30% of\\nthe average similar rent.\\nD. 15% of the rental value of the property unit if the rent less between 31% to 40% of\\nthe average similar rent.\\nE. 20% of the rental value of the property unit if the rent less more than 40% of the\\naverage similar rent.\\nScope of Application\\nArticle (2)\\nThis Decree shall be applicable on public and private landlords in the Emirate of Dubai,\\nincluding private development zones and free zones, including Dubai International\\nFinancial Center.\\n1', 'Average Similar Rent\\nArticle (3)\\nFor the purpose of applying Article (1) of this Decree, the average similar rent shall be\\ndetermined in accordance to “Rental Index in the Emirate of Dubai” approved by the\\nReal Estate Regulatory Agency.\\nPublication and Application\\nArticle (4)\\nThis Decree shall be enforced from the date of its issuance and shall be published in the\\nGazette.\\nMohammed Bin Rashid AL Maktoum,\\nRuler of Dubai\\nIssued in Dubai on: 18th December 2013\\nCorresponding to : 15th Safar 1435 H\\n2']\n"
     ]
    }
   ],
   "source": [
    "#https://pythonology.eu/what-is-the-best-python-pdf-library/\n",
    "import pdfplumber\n",
    "\n",
    "full_text = []\n",
    "with pdfplumber.open('data/rental-increase-decree-43-in-dubai.pdf') as pdf:\n",
    "    # iterate over each page\n",
    "    for page in pdf.pages:\n",
    "        # extract text\n",
    "        text = page.extract_text()\n",
    "        full_text.append(text)\n",
    "print(full_text)"
   ]
  },
  {
   "cell_type": "markdown",
   "metadata": {},
   "source": [
    "### Import spacy to get ner"
   ]
  },
  {
   "cell_type": "code",
   "execution_count": 7,
   "metadata": {},
   "outputs": [
    {
     "data": {
      "text/plain": [
       "['tok2vec', 'tagger', 'parser', 'attribute_ruler', 'lemmatizer', 'ner']"
      ]
     },
     "execution_count": 7,
     "metadata": {},
     "output_type": "execute_result"
    }
   ],
   "source": [
    "import spacy\n",
    "nlp = spacy.load(\"en_core_web_sm\")\n",
    "nlp.pipe_names"
   ]
  },
  {
   "cell_type": "code",
   "execution_count": 8,
   "metadata": {},
   "outputs": [
    {
     "data": {
      "text/plain": [
       "'Decree No (43) for 2013 regarding the\\nDetermination of the Increase in Rent for Properties in the Emirate of Dubai\\nWe, Mohammed Bin Rashied Al Maktoum, Ruler of Dubai\\nAfter perusal of Law No (9) for 2004 regarding Dubai International Financial Center and\\namendments;\\nLaw No (16) for 2007 regarding establishment of the Real Estate Regulatory Agency;\\nLaw No (26) for 2007 regarding Regulation the Relationship between Landlords and\\nTenants of Properties in the Emirate of Dubai and its amendments;\\nDecree No (22) for 2009 regarding Private Development Zones in the Emirate of Dubai;\\nDecree No (2) for 2011 regarding Rents in the Emirate of Dubai;\\nDecree No (26) for 2013 regarding Rental Disputes settlement Center in the Emirate of\\nDubai, and\\nLegislation regulating free zones in the Emirate of Dubai,\\nDecided the following:\\nPercentage of Increase\\nArticle (1)\\nThe maximum rent increase percentage of properties in the Emirate of Dubai shall be\\ndetermined at renewal of lease as flows:\\nA. Without any increase in the rental value for property unit if the rent less than 10% of\\nthe average similar rent.\\nB. 5% of the rental value of the property unit if the rent less between 11% to 20% of the\\naverage similar rent.\\nC. 10% of the rental value of the property unit if the rent less between 21% to 30% of\\nthe average similar rent.\\nD. 15% of the rental value of the property unit if the rent less between 31% to 40% of\\nthe average similar rent.\\nE. 20% of the rental value of the property unit if the rent less more than 40% of the\\naverage similar rent.\\nScope of Application\\nArticle (2)\\nThis Decree shall be applicable on public and private landlords in the Emirate of Dubai,\\nincluding private development zones and free zones, including Dubai International\\nFinancial Center.\\n1'"
      ]
     },
     "execution_count": 8,
     "metadata": {},
     "output_type": "execute_result"
    }
   ],
   "source": [
    "full_text[0]"
   ]
  },
  {
   "cell_type": "code",
   "execution_count": 9,
   "metadata": {},
   "outputs": [
    {
     "name": "stdout",
     "output_type": "stream",
     "text": [
      "2013  |  DATE\n",
      "Determination of the Increase in Rent for Properties  |  ORG\n",
      "Dubai  |  GPE\n",
      "Mohammed Bin Rashied Al Maktoum  |  PERSON\n",
      "Ruler  |  PERSON\n",
      "Dubai  |  GPE\n",
      "2004  |  DATE\n",
      "Dubai International Financial Center  |  ORG\n",
      "Law  |  PERSON\n",
      "2007  |  DATE\n",
      "the Real Estate Regulatory Agency  |  ORG\n",
      "Law  |  PERSON\n",
      "26  |  CARDINAL\n",
      "2007  |  DATE\n",
      "Regulation the Relationship between Landlords  |  ORG\n",
      "Tenants of Properties  |  ORG\n",
      "Dubai  |  GPE\n",
      "Decree  |  NORP\n",
      "2009  |  DATE\n",
      "the Emirate of Dubai  |  ORG\n",
      "Decree  |  NORP\n",
      "2  |  CARDINAL\n",
      "2011  |  DATE\n",
      "Dubai  |  GPE\n",
      "Decree  |  NORP\n",
      "26  |  CARDINAL\n",
      "2013  |  DATE\n",
      "Rental Disputes settlement Center  |  ORG\n",
      "Dubai  |  GPE\n",
      "the Emirate of Dubai  |  ORG\n",
      "1  |  CARDINAL\n",
      "the Emirate of Dubai  |  ORG\n",
      "less than 10%  |  PERCENT\n",
      "between 11% to 20%  |  PERCENT\n",
      "between 21% to 30%  |  PERCENT\n",
      "15%  |  PERCENT\n",
      "between 31% to 40%  |  PERCENT\n",
      "more than 40%  |  PERCENT\n",
      "Scope of Application\n",
      "Article  |  ORG\n",
      "2  |  CARDINAL\n",
      "the Emirate of Dubai  |  ORG\n",
      "Dubai International\n",
      "Financial Center  |  ORG\n",
      "1  |  CARDINAL\n"
     ]
    }
   ],
   "source": [
    "doc = nlp(full_text[0])\n",
    "for ent in doc.ents:\n",
    "    print(ent.text, \" | \", ent.label_)"
   ]
  },
  {
   "cell_type": "code",
   "execution_count": 10,
   "metadata": {},
   "outputs": [
    {
     "name": "stdout",
     "output_type": "stream",
     "text": [
      "Entity: 2013 | Label: DATE | Context: Decree No (43) for 2013 regarding the\n",
      "Determination of the Increase in Rent for Properties in the Emirate of Dubai\n",
      "We, Mohammed Bin\n",
      "Entity: Determination of the Increase in Rent for Properties | Label: ORG | Context: Decree No (43) for 2013 regarding the\n",
      "Determination of the Increase in Rent for Properties in the Emirate of Dubai\n",
      "We, Mohammed Bin Rashied Al Maktoum, Ruler of Dubai\n",
      "After perusal of\n",
      "Entity: Dubai | Label: GPE | Context: the Increase in Rent for Properties in the Emirate of Dubai\n",
      "We, Mohammed Bin Rashied Al Maktoum, Ruler of Dubai\n",
      "After perusal of Law No (9)\n",
      "Entity: Mohammed Bin Rashied Al Maktoum | Label: PERSON | Context: for Properties in the Emirate of Dubai\n",
      "We, Mohammed Bin Rashied Al Maktoum, Ruler of Dubai\n",
      "After perusal of Law No (9) for 2004 regarding Dubai International Financial Center and\n",
      "Entity: Ruler | Label: PERSON | Context: Dubai\n",
      "We, Mohammed Bin Rashied Al Maktoum, Ruler of Dubai\n",
      "After perusal of Law No (9) for 2004 regarding Dubai International Financial Center and\n",
      "amendments\n",
      "Entity: Dubai | Label: GPE | Context: We, Mohammed Bin Rashied Al Maktoum, Ruler of Dubai\n",
      "After perusal of Law No (9) for 2004 regarding Dubai International Financial Center and\n",
      "amendments;\n",
      "\n",
      "Entity: 2004 | Label: DATE | Context: \n",
      "After perusal of Law No (9) for 2004 regarding Dubai International Financial Center and\n",
      "amendments;\n",
      "Law No (16) for 2007 regarding establishment of the\n",
      "Entity: Dubai International Financial Center | Label: ORG | Context: perusal of Law No (9) for 2004 regarding Dubai International Financial Center and\n",
      "amendments;\n",
      "Law No (16) for 2007 regarding establishment of the Real Estate Regulatory Agency;\n",
      "Entity: Law | Label: PERSON | Context: regarding Dubai International Financial Center and\n",
      "amendments;\n",
      "Law No (16) for 2007 regarding establishment of the Real Estate Regulatory Agency;\n",
      "Law No (26)\n",
      "Entity: 2007 | Label: DATE | Context: \n",
      "amendments;\n",
      "Law No (16) for 2007 regarding establishment of the Real Estate Regulatory Agency;\n",
      "Law No (26) for 2007 regarding Regulation the Relationship\n",
      "Entity: the Real Estate Regulatory Agency | Label: ORG | Context: Law No (16) for 2007 regarding establishment of the Real Estate Regulatory Agency;\n",
      "Law No (26) for 2007 regarding Regulation the Relationship between Landlords and\n",
      "Tenants of Properties in\n",
      "Entity: Law | Label: PERSON | Context: regarding establishment of the Real Estate Regulatory Agency;\n",
      "Law No (26) for 2007 regarding Regulation the Relationship between Landlords and\n",
      "Tenants of Properties in the Emirate of\n",
      "Entity: 26 | Label: CARDINAL | Context: the Real Estate Regulatory Agency;\n",
      "Law No (26) for 2007 regarding Regulation the Relationship between Landlords and\n",
      "Tenants of Properties in the Emirate of Dubai and its\n",
      "Entity: 2007 | Label: DATE | Context: Regulatory Agency;\n",
      "Law No (26) for 2007 regarding Regulation the Relationship between Landlords and\n",
      "Tenants of Properties in the Emirate of Dubai and its amendments;\n",
      "\n",
      "Entity: Regulation the Relationship between Landlords | Label: ORG | Context: ;\n",
      "Law No (26) for 2007 regarding Regulation the Relationship between Landlords and\n",
      "Tenants of Properties in the Emirate of Dubai and its amendments;\n",
      "Decree No (22) for\n",
      "Entity: Tenants of Properties | Label: ORG | Context: for 2007 regarding Regulation the Relationship between Landlords and\n",
      "Tenants of Properties in the Emirate of Dubai and its amendments;\n",
      "Decree No (22) for 2009 regarding Private Development Zones\n",
      "Entity: Dubai | Label: GPE | Context: Landlords and\n",
      "Tenants of Properties in the Emirate of Dubai and its amendments;\n",
      "Decree No (22) for 2009 regarding Private Development Zones in the Emirate of Dubai\n",
      "Entity: Decree | Label: NORP | Context: in the Emirate of Dubai and its amendments;\n",
      "Decree No (22) for 2009 regarding Private Development Zones in the Emirate of Dubai;\n",
      "Decree No (2\n",
      "Entity: 2009 | Label: DATE | Context: its amendments;\n",
      "Decree No (22) for 2009 regarding Private Development Zones in the Emirate of Dubai;\n",
      "Decree No (2) for 2011 regarding Rents in\n",
      "Entity: the Emirate of Dubai | Label: ORG | Context: (22) for 2009 regarding Private Development Zones in the Emirate of Dubai;\n",
      "Decree No (2) for 2011 regarding Rents in the Emirate of Dubai;\n",
      "Decree No (\n",
      "Entity: Decree | Label: NORP | Context: Private Development Zones in the Emirate of Dubai;\n",
      "Decree No (2) for 2011 regarding Rents in the Emirate of Dubai;\n",
      "Decree No (26) for\n",
      "Entity: 2 | Label: CARDINAL | Context: in the Emirate of Dubai;\n",
      "Decree No (2) for 2011 regarding Rents in the Emirate of Dubai;\n",
      "Decree No (26) for 2013 regarding Rental\n",
      "Entity: 2011 | Label: DATE | Context: of Dubai;\n",
      "Decree No (2) for 2011 regarding Rents in the Emirate of Dubai;\n",
      "Decree No (26) for 2013 regarding Rental Disputes settlement Center\n",
      "Entity: Dubai | Label: GPE | Context: 2) for 2011 regarding Rents in the Emirate of Dubai;\n",
      "Decree No (26) for 2013 regarding Rental Disputes settlement Center in the Emirate of\n",
      "Dubai,\n",
      "Entity: Decree | Label: NORP | Context: 2011 regarding Rents in the Emirate of Dubai;\n",
      "Decree No (26) for 2013 regarding Rental Disputes settlement Center in the Emirate of\n",
      "Dubai, and\n",
      "Legislation\n",
      "Entity: 26 | Label: CARDINAL | Context: in the Emirate of Dubai;\n",
      "Decree No (26) for 2013 regarding Rental Disputes settlement Center in the Emirate of\n",
      "Dubai, and\n",
      "Legislation regulating free zones\n",
      "Entity: 2013 | Label: DATE | Context: of Dubai;\n",
      "Decree No (26) for 2013 regarding Rental Disputes settlement Center in the Emirate of\n",
      "Dubai, and\n",
      "Legislation regulating free zones in the Emirate\n",
      "Entity: Rental Disputes settlement Center | Label: ORG | Context: ;\n",
      "Decree No (26) for 2013 regarding Rental Disputes settlement Center in the Emirate of\n",
      "Dubai, and\n",
      "Legislation regulating free zones in the Emirate of Dubai,\n",
      "Decided\n",
      "Entity: Dubai | Label: GPE | Context: regarding Rental Disputes settlement Center in the Emirate of\n",
      "Dubai, and\n",
      "Legislation regulating free zones in the Emirate of Dubai,\n",
      "Decided the following:\n",
      "Percentage of\n",
      "Entity: the Emirate of Dubai | Label: ORG | Context: \n",
      "Dubai, and\n",
      "Legislation regulating free zones in the Emirate of Dubai,\n",
      "Decided the following:\n",
      "Percentage of Increase\n",
      "Article (1)\n",
      "The maximum rent increase percentage\n",
      "Entity: 1 | Label: CARDINAL | Context: the following:\n",
      "Percentage of Increase\n",
      "Article (1)\n",
      "The maximum rent increase percentage of properties in the Emirate of Dubai shall be\n",
      "determined at renewal of\n",
      "Entity: the Emirate of Dubai | Label: ORG | Context: )\n",
      "The maximum rent increase percentage of properties in the Emirate of Dubai shall be\n",
      "determined at renewal of lease as flows:\n",
      "A. Without any increase in the rental value for\n",
      "Entity: less than 10% | Label: PERCENT | Context: in the rental value for property unit if the rent less than 10% of\n",
      "the average similar rent.\n",
      "B. 5% of the rental value of the property unit if the\n",
      "Entity: between 11% to 20% | Label: PERCENT | Context: rental value of the property unit if the rent less between 11% to 20% of the\n",
      "average similar rent.\n",
      "C. 10% of the rental value of the property unit if the\n",
      "Entity: between 21% to 30% | Label: PERCENT | Context: rental value of the property unit if the rent less between 21% to 30% of\n",
      "the average similar rent.\n",
      "D. 15% of the rental value of the property unit if the\n",
      "Entity: 15% | Label: PERCENT | Context: % of\n",
      "the average similar rent.\n",
      "D. 15% of the rental value of the property unit if the rent less between 31% to 40% of\n",
      "the\n",
      "Entity: between 31% to 40% | Label: PERCENT | Context: rental value of the property unit if the rent less between 31% to 40% of\n",
      "the average similar rent.\n",
      "E. 20% of the rental value of the property unit if the\n",
      "Entity: more than 40% | Label: PERCENT | Context: rental value of the property unit if the rent less more than 40% of the\n",
      "average similar rent.\n",
      "Scope of Application\n",
      "Article (2)\n",
      "This Decree shall be\n",
      "Entity: Scope of Application\n",
      "Article | Label: ORG | Context: 40% of the\n",
      "average similar rent.\n",
      "Scope of Application\n",
      "Article (2)\n",
      "This Decree shall be applicable on public and private landlords in the Emirate of Dubai,\n",
      "\n",
      "Entity: 2 | Label: CARDINAL | Context: similar rent.\n",
      "Scope of Application\n",
      "Article (2)\n",
      "This Decree shall be applicable on public and private landlords in the Emirate of Dubai,\n",
      "including private\n",
      "Entity: the Emirate of Dubai | Label: ORG | Context: Decree shall be applicable on public and private landlords in the Emirate of Dubai,\n",
      "including private development zones and free zones, including Dubai International\n",
      "Financial Center.\n",
      "1\n",
      "Entity: Dubai International\n",
      "Financial Center | Label: ORG | Context: \n",
      "including private development zones and free zones, including Dubai International\n",
      "Financial Center.\n",
      "1\n",
      "Entity: 1 | Label: CARDINAL | Context: zones, including Dubai International\n",
      "Financial Center.\n",
      "1\n"
     ]
    }
   ],
   "source": [
    "import spacy\n",
    "\n",
    "nlp = spacy.load(\"en_core_web_sm\")\n",
    "\n",
    "# Assuming you have a list 'full_text' containing your document text\n",
    "#full_text = [\"Your document text goes here.\"]\n",
    "\n",
    "# Process the document using spaCy\n",
    "doc = nlp(full_text[0])\n",
    "\n",
    "# Iterate through entities and print the context\n",
    "for ent in doc.ents:\n",
    "    # Get the start and end indices of the context window\n",
    "    start_index = max(ent.start - 10, 0)  # 10 tokens before the entity\n",
    "    end_index = min(ent.end + 20, len(doc) - 1)  # 20 tokens after the entity\n",
    "\n",
    "    # Extract the context window text\n",
    "    context = doc[start_index:end_index + 1].text\n",
    "\n",
    "    # Print entity text, label, and context\n",
    "    print(f\"Entity: {ent.text} | Label: {ent.label_} | Context: {context}\")\n"
   ]
  },
  {
   "cell_type": "code",
   "execution_count": 11,
   "metadata": {},
   "outputs": [],
   "source": [
    "import spacy\n",
    "\n",
    "nlp = spacy.load(\"en_core_web_sm\")\n",
    "\n",
    "# Assuming you have a list 'full_text' containing your document text\n",
    "#full_text = [\"Your document text goes here. Article 1 talks about... Article 2 mentions...\"]\n",
    "\n",
    "# Process the document using spaCy\n",
    "doc = nlp(full_text[0])\n",
    "\n",
    "# Iterate through entities and print the context\n",
    "for ent in doc.ents:\n",
    "    if ent.text.startswith(\"Article\"):\n",
    "        # Get the start and end indices of the context window\n",
    "        start_index = max(ent.start - 10, 0)  # 10 tokens before the entity\n",
    "        end_index = min(ent.end + 20, len(doc) - 1)  # 20 tokens after the entity\n",
    "\n",
    "        # Extract the context window text\n",
    "        context = doc[start_index:end_index + 1].text\n",
    "\n",
    "        # Print entity text, label, and context\n",
    "        print(f\"Entity: {ent.text} | Label: {ent.label_} | Context: {context}\")\n"
   ]
  },
  {
   "cell_type": "code",
   "execution_count": 12,
   "metadata": {},
   "outputs": [
    {
     "data": {
      "text/plain": [
       "(2013,\n",
       " Determination of the Increase in Rent for Properties,\n",
       " Dubai,\n",
       " Mohammed Bin Rashied Al Maktoum,\n",
       " Ruler,\n",
       " Dubai,\n",
       " 2004,\n",
       " Dubai International Financial Center,\n",
       " Law,\n",
       " 2007,\n",
       " the Real Estate Regulatory Agency,\n",
       " Law,\n",
       " 26,\n",
       " 2007,\n",
       " Regulation the Relationship between Landlords,\n",
       " Tenants of Properties,\n",
       " Dubai,\n",
       " Decree,\n",
       " 2009,\n",
       " the Emirate of Dubai,\n",
       " Decree,\n",
       " 2,\n",
       " 2011,\n",
       " Dubai,\n",
       " Decree,\n",
       " 26,\n",
       " 2013,\n",
       " Rental Disputes settlement Center,\n",
       " Dubai,\n",
       " the Emirate of Dubai,\n",
       " 1,\n",
       " the Emirate of Dubai,\n",
       " less than 10%,\n",
       " between 11% to 20%,\n",
       " between 21% to 30%,\n",
       " 15%,\n",
       " between 31% to 40%,\n",
       " more than 40%,\n",
       " Scope of Application\n",
       " Article,\n",
       " 2,\n",
       " the Emirate of Dubai,\n",
       " Dubai International\n",
       " Financial Center,\n",
       " 1)"
      ]
     },
     "execution_count": 12,
     "metadata": {},
     "output_type": "execute_result"
    }
   ],
   "source": [
    "doc.ents"
   ]
  },
  {
   "cell_type": "code",
   "execution_count": 21,
   "metadata": {},
   "outputs": [
    {
     "data": {
      "text/plain": [
       "'1'"
      ]
     },
     "execution_count": 21,
     "metadata": {},
     "output_type": "execute_result"
    }
   ],
   "source": [
    "ent.text"
   ]
  },
  {
   "cell_type": "markdown",
   "metadata": {},
   "source": [
    "The issue here is I am not able to fetch the contents for each articles."
   ]
  },
  {
   "cell_type": "code",
   "execution_count": null,
   "metadata": {},
   "outputs": [],
   "source": []
  },
  {
   "cell_type": "markdown",
   "metadata": {},
   "source": [
    "### Try different way using Regex"
   ]
  },
  {
   "cell_type": "code",
   "execution_count": 14,
   "metadata": {},
   "outputs": [
    {
     "name": "stdout",
     "output_type": "stream",
     "text": [
      "      Articles                                           Contents\n",
      "0  Article (1)  The maximum rent increase percentage of proper...\n",
      "1  Article (3)                        For the purpose of applying\n",
      "2  Article (1)  of this Decree, the average similar rent shall...\n"
     ]
    }
   ],
   "source": [
    "import PyPDF2\n",
    "import pandas as pd\n",
    "import regex as re\n",
    "\n",
    "def extract_articles_and_contents(pdf_path):\n",
    "    with open(pdf_path, 'rb') as file:\n",
    "        pdf_reader = PyPDF2.PdfReader(file)\n",
    "        num_pages = len(pdf_reader.pages)\n",
    "\n",
    "        # Initialize lists to store articles and contents\n",
    "        articles = []\n",
    "        contents = []\n",
    "\n",
    "        # Iterate through pages and extract text\n",
    "        for page_num in range(num_pages):\n",
    "            page = pdf_reader.pages[page_num]\n",
    "            text = page.extract_text()\n",
    "\n",
    "            # Use regex to identify articles and contents\n",
    "            matches = re.findall(r'Article \\(\\d+\\)', text)\n",
    "            \n",
    "            # Extract articles and contents\n",
    "            for i in range(len(matches) - 1):\n",
    "                start_index = text.find(matches[i]) + len(matches[i])\n",
    "                end_index = text.find(matches[i + 1])\n",
    "                article_content = text[start_index:end_index].strip()\n",
    "                \n",
    "                articles.append(matches[i])\n",
    "                contents.append(article_content)\n",
    "\n",
    "        # Add the last article and its content\n",
    "        articles.append(matches[-1])\n",
    "        contents.append(text[text.find(matches[-1]) + len(matches[-1]):].strip())\n",
    "\n",
    "    # Create a DataFrame\n",
    "    df = pd.DataFrame(list(zip(articles, contents)), columns=['Articles', 'Contents'])\n",
    "    return df\n",
    "\n",
    "# Provide the path to your PDF file\n",
    "pdf_path = 'data/rental-increase-decree-43-in-dubai.pdf'\n",
    "\n",
    "# Extract articles and contents and create a DataFrame\n",
    "df = extract_articles_and_contents(pdf_path)\n",
    "\n",
    "# Display the DataFrame\n",
    "print(df.head())\n"
   ]
  },
  {
   "cell_type": "code",
   "execution_count": 15,
   "metadata": {},
   "outputs": [],
   "source": [
    "df.to_csv('rental_increase_decree.csv')"
   ]
  },
  {
   "cell_type": "markdown",
   "metadata": {},
   "source": [
    "The above code could not read The Articcle(2) and related contents."
   ]
  },
  {
   "cell_type": "code",
   "execution_count": 16,
   "metadata": {},
   "outputs": [],
   "source": []
  },
  {
   "cell_type": "code",
   "execution_count": 16,
   "metadata": {},
   "outputs": [
    {
     "name": "stdout",
     "output_type": "stream",
     "text": [
      "     Articles                                           Contents\n",
      "0  Article (1  ) of this Decree, the average similar rent sha...\n"
     ]
    }
   ],
   "source": [
    "import PyPDF2\n",
    "import pandas as pd\n",
    "import regex as re\n",
    "import spacy\n",
    "\n",
    "nlp = spacy.load(\"en_core_web_sm\")\n",
    "\n",
    "def extract_articles_and_contents(pdf_path):\n",
    "    with open(pdf_path, 'rb') as file:\n",
    "        pdf_reader = PyPDF2.PdfReader(file)\n",
    "        num_pages = len(pdf_reader.pages)\n",
    "\n",
    "        # Initialize lists to store articles and contents\n",
    "        articles = []\n",
    "        contents = []\n",
    "\n",
    "        # Iterate through pages and extract text\n",
    "        for page_num in range(num_pages):\n",
    "            page = pdf_reader.pages[page_num]\n",
    "            text = page.extract_text()\n",
    "\n",
    "            # Apply spaCy NER\n",
    "            doc = nlp(text)\n",
    "\n",
    "            # Extract articles and contents based on NER\n",
    "            for ent in doc.ents:\n",
    "                if ent.text.startswith(\"Article (\") or ent.text in [\"Scope of Application\", \"Average Similar Rent\", \"Publication and Application\"]:\n",
    "                    start_index = text.find(ent.text) + len(ent.text)\n",
    "                    next_entity_index = text.find(ent.text, start_index)\n",
    "                    end_index = next_entity_index if next_entity_index != -1 else None\n",
    "\n",
    "                    article_content = text[start_index:end_index].strip()\n",
    "                    articles.append(ent.text)\n",
    "                    contents.append(article_content)\n",
    "\n",
    "    # Create a DataFrame\n",
    "    df = pd.DataFrame(list(zip(articles, contents)), columns=['Articles', 'Contents'])\n",
    "    return df\n",
    "\n",
    "# Provide the path to your PDF file\n",
    "pdf_path = 'data/rental-increase-decree-43-in-dubai.pdf'\n",
    "\n",
    "# Extract articles and contents and create a DataFrame\n",
    "df = extract_articles_and_contents(pdf_path)\n",
    "\n",
    "# Display the DataFrame\n",
    "print(df.head())\n"
   ]
  },
  {
   "cell_type": "code",
   "execution_count": 17,
   "metadata": {},
   "outputs": [
    {
     "data": {
      "text/html": [
       "<div>\n",
       "<style scoped>\n",
       "    .dataframe tbody tr th:only-of-type {\n",
       "        vertical-align: middle;\n",
       "    }\n",
       "\n",
       "    .dataframe tbody tr th {\n",
       "        vertical-align: top;\n",
       "    }\n",
       "\n",
       "    .dataframe thead th {\n",
       "        text-align: right;\n",
       "    }\n",
       "</style>\n",
       "<table border=\"1\" class=\"dataframe\">\n",
       "  <thead>\n",
       "    <tr style=\"text-align: right;\">\n",
       "      <th></th>\n",
       "      <th>Articles</th>\n",
       "      <th>Contents</th>\n",
       "    </tr>\n",
       "  </thead>\n",
       "  <tbody>\n",
       "    <tr>\n",
       "      <th>0</th>\n",
       "      <td>Article (1</td>\n",
       "      <td>) of this Decree, the average similar rent sha...</td>\n",
       "    </tr>\n",
       "  </tbody>\n",
       "</table>\n",
       "</div>"
      ],
      "text/plain": [
       "     Articles                                           Contents\n",
       "0  Article (1  ) of this Decree, the average similar rent sha..."
      ]
     },
     "execution_count": 17,
     "metadata": {},
     "output_type": "execute_result"
    }
   ],
   "source": [
    "df"
   ]
  },
  {
   "cell_type": "code",
   "execution_count": 18,
   "metadata": {},
   "outputs": [
    {
     "name": "stdout",
     "output_type": "stream",
     "text": [
      "               Articles                                           Contents\n",
      "0           Article (1)  The maximum rent increase percentage of proper...\n",
      "1  Scope of Application                                                   \n",
      "2  Average Similar Rent                                                   \n",
      "3           Article (3)                        For the purpose of applying\n",
      "4           Article (1)  of this Decree, the average similar rent shall...\n"
     ]
    }
   ],
   "source": [
    "import PyPDF2\n",
    "import pandas as pd\n",
    "import regex as re\n",
    "\n",
    "def extract_articles_and_contents(pdf_path):\n",
    "    with open(pdf_path, 'rb') as file:\n",
    "        pdf_reader = PyPDF2.PdfReader(file)\n",
    "        num_pages = len(pdf_reader.pages)\n",
    "\n",
    "        # Initialize lists to store articles and contents\n",
    "        articles = []\n",
    "        contents = []\n",
    "\n",
    "        # Define the pattern for identifying articles\n",
    "        article_pattern = re.compile(r'Article \\(\\d+\\)|Scope of Application|Average Similar Rent|Publication and Application')\n",
    "\n",
    "        # Iterate through pages and extract text\n",
    "        for page_num in range(num_pages):\n",
    "            page = pdf_reader.pages[page_num]\n",
    "            text = page.extract_text()\n",
    "\n",
    "            # Extract articles and contents based on regex pattern\n",
    "            matches = article_pattern.finditer(text)\n",
    "            matches = list(matches)\n",
    "\n",
    "            for i in range(len(matches) - 1):\n",
    "                start_index = matches[i].end()\n",
    "                end_index = matches[i + 1].start() if i + 1 < len(matches) else None\n",
    "\n",
    "                article_content = text[start_index:end_index].strip()\n",
    "                articles.append(matches[i].group())\n",
    "                contents.append(article_content)\n",
    "\n",
    "    # Create a DataFrame\n",
    "    df = pd.DataFrame(list(zip(articles, contents)), columns=['Articles', 'Contents'])\n",
    "    return df\n",
    "\n",
    "# Provide the path to your PDF file\n",
    "pdf_path = 'data/rental-increase-decree-43-in-dubai.pdf'\n",
    "\n",
    "# Extract articles and contents and create a DataFrame\n",
    "df = extract_articles_and_contents(pdf_path)\n",
    "\n",
    "# Display the DataFrame\n",
    "print(df)\n"
   ]
  }
 ],
 "metadata": {
  "kernelspec": {
   "display_name": "llm",
   "language": "python",
   "name": "python3"
  },
  "language_info": {
   "codemirror_mode": {
    "name": "ipython",
    "version": 3
   },
   "file_extension": ".py",
   "mimetype": "text/x-python",
   "name": "python",
   "nbconvert_exporter": "python",
   "pygments_lexer": "ipython3",
   "version": "3.9.18"
  },
  "vscode": {
   "interpreter": {
    "hash": "49e46f4933eb190fc0ea85733d9a0d5574f6e07fd46a50f28ba9d16205b516d9"
   }
  }
 },
 "nbformat": 4,
 "nbformat_minor": 2
}
