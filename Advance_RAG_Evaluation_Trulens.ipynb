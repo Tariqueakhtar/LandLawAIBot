{
 "cells": [
  {
   "cell_type": "markdown",
   "id": "a723db90",
   "metadata": {},
   "source": [
    "This notebook is written to experiment different type of RAG pipeline techniques using LLAMA_INDEX.\n",
    "The performance of each RAG technique is evaluated by Trulens.\n",
    "The evaluation is based on 1.Answer Relevance, 2. Context Relevance and 3.Groundedness.\n",
    "\n",
    "Below are RAG Techniques.\n",
    "1. Basic RAG pipeline \n",
    "2. Sentence Window retrieval\n",
    "3. Auto-merging retrieval"
   ]
  },
  {
   "cell_type": "markdown",
   "id": "cbaffd76",
   "metadata": {},
   "source": [
    "There is a utility module i.e utils.py which is called in this notebook to envoke different RAG technique."
   ]
  },
  {
   "cell_type": "code",
   "execution_count": 1,
   "id": "feb98470-c136-471d-a63e-d50d8eb09c57",
   "metadata": {
    "height": 98,
    "tags": []
   },
   "outputs": [
    {
     "name": "stdout",
     "output_type": "stream",
     "text": [
      "✅ In Answer Relevance, input prompt will be set to __record__.main_input or `Select.RecordInput` .\n",
      "✅ In Answer Relevance, input response will be set to __record__.main_output or `Select.RecordOutput` .\n",
      "✅ In Context Relevance, input prompt will be set to __record__.main_input or `Select.RecordInput` .\n",
      "✅ In Context Relevance, input response will be set to __record__.app.query.rets.source_nodes[:].node.text .\n",
      "✅ In Groundedness, input source will be set to __record__.app.query.rets.source_nodes[:].node.text .\n",
      "✅ In Groundedness, input statement will be set to __record__.main_output or `Select.RecordOutput` .\n"
     ]
    }
   ],
   "source": [
    "import utils\n",
    "\n",
    "import os\n",
    "import openai\n",
    "openai.api_key = utils.get_openai_api_key()"
   ]
  },
  {
   "cell_type": "code",
   "execution_count": 3,
   "id": "31e2859b-596e-40b3-867b-f4d6e91f74bc",
   "metadata": {
    "height": 98,
    "tags": []
   },
   "outputs": [],
   "source": [
    "# from llama_index.core import SimpleDirectoryReader\n",
    "\n",
    "# documents = SimpleDirectoryReader(\n",
    "#     input_files=[\"data/book.pdf\"]\n",
    "    \n",
    "# ).load_data()"
   ]
  },
  {
   "cell_type": "code",
   "execution_count": 2,
   "id": "6cff604b",
   "metadata": {},
   "outputs": [
    {
     "name": "stdout",
     "output_type": "stream",
     "text": [
      "['data/book.pdf', 'data/tenancyguideen.pdf', 'data/tr01-survey-manual-sign_2022-04-26.pdf', 'data/rental-increase-decree-43-in-dubai.pdf']\n"
     ]
    }
   ],
   "source": [
    "import os\n",
    "from glob import glob\n",
    "from llama_index.core import SimpleDirectoryReader\n",
    "\n",
    "# Get all PDF files in the \"data\" folder\n",
    "pdf_files = glob(\"data/*.pdf\")\n",
    "print(pdf_files)\n",
    "# Create SimpleDirectoryReader instance with the list of PDF files\n",
    "documents = SimpleDirectoryReader(input_files=pdf_files).load_data()\n"
   ]
  },
  {
   "cell_type": "code",
   "execution_count": 3,
   "id": "2d7d0857-b9d1-4feb-8243-bfd2f4953acd",
   "metadata": {
    "height": 81,
    "tags": []
   },
   "outputs": [
    {
     "name": "stdout",
     "output_type": "stream",
     "text": [
      "<class 'list'> \n",
      "\n",
      "180 \n",
      "\n",
      "<class 'llama_index.core.schema.Document'>\n",
      "Doc ID: 72e74ea4-9be9-4d40-8cae-80d16c80edb0\n",
      "Text:\n"
     ]
    }
   ],
   "source": [
    "print(type(documents), \"\\n\")\n",
    "print(len(documents), \"\\n\")\n",
    "print(type(documents[0]))\n",
    "print(documents[0])"
   ]
  },
  {
   "cell_type": "markdown",
   "id": "f3123d3d",
   "metadata": {},
   "source": [
    "## Basic RAG pipeline"
   ]
  },
  {
   "cell_type": "code",
   "execution_count": 4,
   "id": "b4abc806-64f5-46bb-8c9f-6469ecb18d20",
   "metadata": {
    "height": 64,
    "tags": []
   },
   "outputs": [],
   "source": [
    "from llama_index.core import Document, VectorStoreIndex\n",
    "\n",
    "document = Document(text=\"\\n\\n\".join([doc.text for doc in documents]))"
   ]
  },
  {
   "cell_type": "code",
   "execution_count": 5,
   "id": "afc2baff-5e8b-4733-9899-16f248777b23",
   "metadata": {
    "height": 183,
    "tags": []
   },
   "outputs": [
    {
     "name": "stderr",
     "output_type": "stream",
     "text": [
      "/var/folders/sx/55mj_5d53ps8zvqrbm12z_xh0000gp/T/ipykernel_41877/2769001838.py:6: DeprecationWarning: Call to deprecated class method from_defaults. (ServiceContext is deprecated, please use `llama_index.settings.Settings` instead.) -- Deprecated since version 0.10.0.\n",
      "  service_context = ServiceContext.from_defaults(\n"
     ]
    }
   ],
   "source": [
    "from llama_index.core import VectorStoreIndex\n",
    "from llama_index.core import ServiceContext\n",
    "from llama_index.llms.openai import OpenAI\n",
    "\n",
    "llm = OpenAI(model=\"gpt-3.5-turbo\", temperature=0.1)\n",
    "service_context = ServiceContext.from_defaults(\n",
    "    llm=llm, embed_model=\"local:BAAI/bge-small-en-v1.5\"\n",
    ")\n",
    "index = VectorStoreIndex.from_documents([document],\n",
    "                                        service_context=service_context)"
   ]
  },
  {
   "cell_type": "code",
   "execution_count": 6,
   "id": "ae52a26c-7d0c-44df-8043-4c7f19f794b9",
   "metadata": {
    "height": 30,
    "tags": []
   },
   "outputs": [],
   "source": [
    "query_engine = index.as_query_engine()"
   ]
  },
  {
   "cell_type": "code",
   "execution_count": 7,
   "id": "6b0d5b6e-cc2e-4648-b28c-5fa25a97d175",
   "metadata": {
    "height": 81,
    "tags": []
   },
   "outputs": [
    {
     "name": "stderr",
     "output_type": "stream",
     "text": [
      "huggingface/tokenizers: The current process just got forked, after parallelism has already been used. Disabling parallelism to avoid deadlocks...\n",
      "To disable this warning, you can either:\n",
      "\t- Avoid using `tokenizers` before the fork if possible\n",
      "\t- Explicitly set the environment variable TOKENIZERS_PARALLELISM=(true | false)\n"
     ]
    },
    {
     "name": "stdout",
     "output_type": "stream",
     "text": [
      "The fine for a person who is not registered on the roll is double the prescribed fee.\n"
     ]
    }
   ],
   "source": [
    "response = query_engine.query(\n",
    "    \"How much is the fine for The fine for a person who is not registered on the roll?\"\n",
    ")\n",
    "print(str(response))"
   ]
  },
  {
   "cell_type": "code",
   "execution_count": 8,
   "id": "a90f1aff",
   "metadata": {},
   "outputs": [
    {
     "name": "stdout",
     "output_type": "stream",
     "text": [
      "The fine for Failure to comply with the obligations stipulated in Article (16) of this Resolution is double the prescribed Fee.\n"
     ]
    }
   ],
   "source": [
    "response = query_engine.query(\n",
    "    \"How much is the fine for Failure to comply with the obligations stipulated in Article (16) of this Resolution?\"\n",
    ")\n",
    "print(str(response))"
   ]
  },
  {
   "cell_type": "markdown",
   "id": "e50a1ac5",
   "metadata": {},
   "source": [
    "## Evaluation setup using TruLens"
   ]
  },
  {
   "cell_type": "code",
   "execution_count": 9,
   "id": "0ead7dc1-71b2-4001-918f-bf8d610fd3fd",
   "metadata": {
    "height": 132,
    "tags": []
   },
   "outputs": [
    {
     "name": "stdout",
     "output_type": "stream",
     "text": [
      "How much is the fine for the person who is not registered on the roll?\n",
      "How much is the fine for obstructing the work of RERA employees?\n",
      "How much is the fine for Failure to comply with the obligations stipulated in Article (16) of this Resolution?\n",
      "What is  Law No. (6) of 2019 Concerning Ownership of Jointly Owned Real Property in the Emirate of Dubai all about?\n",
      "What is Article(3) Scope of Application for Law No.(6)\n",
      "What is Article(4) for Jointly Owned Real Property Register for Law No.(6)\n",
      "What is Article (5) for Ownership Rules\n",
      "What is Jointly Owned Real Property Title Deeds Article (6)\n",
      "What is Components of Common Parts Article (7)  of Law No. (6)\n",
      "Which law talks about rental increase decree for properties in Emirates Dubai?\n",
      "What is Article (1) for Percentage of increase for rental increase decree for properties in Emirates Dubai?\n",
      "What does Article (2) for Scope of Application says about?\n",
      "What does the Article (3) realtes to?\n",
      "What is Article (3) for rental increase decree?\n",
      "What is tenancy all about?\n",
      "What is Ejari Mechanism in Dubai?\n",
      "What are the documents required for registration in Ejari?\n",
      "How to Register Lease Contracts with RERA\n",
      "What is Tenancy Regulating Legislations?\n",
      "How many articles are there in Tenancy regulating legislations?\n",
      "How to regulate the relationship between Landlords and Tenants in the Emirates of Dubai?\n",
      "What is rent Index?\n",
      "What is Rent Increase Calculator?\n"
     ]
    }
   ],
   "source": [
    "eval_questions = []\n",
    "with open('evaluation_questions.txt', 'r') as file:\n",
    "    for line in file:\n",
    "        # Remove newline character and convert to integer\n",
    "        item = line.strip()\n",
    "        print(item)\n",
    "        eval_questions.append(item)"
   ]
  },
  {
   "cell_type": "code",
   "execution_count": 10,
   "id": "87a278f8",
   "metadata": {
    "height": 64
   },
   "outputs": [],
   "source": [
    "# You can try your own question:\n",
    "new_question = \"How to find the best tenancy option in Dubai?\"\n",
    "eval_questions.append(new_question)"
   ]
  },
  {
   "cell_type": "code",
   "execution_count": 11,
   "id": "8d5204e8",
   "metadata": {
    "height": 30
   },
   "outputs": [
    {
     "name": "stdout",
     "output_type": "stream",
     "text": [
      "['How much is the fine for the person who is not registered on the roll?', 'How much is the fine for obstructing the work of RERA employees?', 'How much is the fine for Failure to comply with the obligations stipulated in Article (16) of this Resolution?', 'What is  Law No. (6) of 2019 Concerning Ownership of Jointly Owned Real Property in the Emirate of Dubai\\xa0all about?', 'What is Article(3) Scope of Application for Law No.(6)', 'What is Article(4) for Jointly Owned Real Property Register for Law No.(6)', 'What is Article (5)\\xa0for Ownership Rules', 'What is Jointly Owned Real Property Title Deeds Article (6)', 'What is Components of Common Parts Article (7)  of Law No. (6)', 'Which law talks about rental increase decree for properties in Emirates Dubai?', 'What is Article (1) for Percentage of increase for rental increase decree for properties in Emirates Dubai?', 'What does Article (2) for Scope of Application says about?', 'What does the Article (3) realtes to?', 'What is Article (3) for rental increase decree?', 'What is tenancy all about?', 'What is Ejari Mechanism in Dubai?', 'What are the documents required for registration in Ejari?', 'How to Register Lease Contracts with RERA', 'What is Tenancy Regulating Legislations?', 'How many articles are there in Tenancy regulating legislations?', 'How to regulate the relationship between Landlords and Tenants in the Emirates of Dubai?', 'What is rent Index?', 'What is Rent Increase Calculator?', 'How to find the best tenancy option in Dubai?']\n"
     ]
    }
   ],
   "source": [
    "print(eval_questions)"
   ]
  },
  {
   "cell_type": "code",
   "execution_count": 12,
   "id": "3937ea51",
   "metadata": {},
   "outputs": [
    {
     "name": "stdout",
     "output_type": "stream",
     "text": [
      "Law No. (6) of 2019 Concerning Ownership of Jointly Owned Real Property in the Emirate of Dubai is about regulations and rules related to jointly owned real property in Dubai, including definitions of terms, the scope of application, the establishment of a register for jointly owned real property, ownership rules, title deeds for jointly owned real property, and obligations of developers in relation to filing necessary documents with the Dubai Land Department.\n"
     ]
    }
   ],
   "source": [
    "response = query_engine.query(\n",
    "    \"What is  Law No. (6) of 2019 Concerning Ownership of Jointly Owned Real Property in the Emirate of Dubai all about?\"\n",
    ")\n",
    "print(str(response))"
   ]
  },
  {
   "cell_type": "code",
   "execution_count": 13,
   "id": "c0fe2a1d",
   "metadata": {},
   "outputs": [
    {
     "name": "stdout",
     "output_type": "stream",
     "text": [
      "The provisions of Law No. (6) apply to all Master Projects and Jointly Owned Real Property in the Emirate, including those in Special Development Zones and in free zones.\n"
     ]
    }
   ],
   "source": [
    "response = query_engine.query(\n",
    "    \"What is Article(3) Scope of Application for Law No.(6)\"\n",
    ")\n",
    "print(str(response))"
   ]
  },
  {
   "cell_type": "code",
   "execution_count": 14,
   "id": "a477ac27",
   "metadata": {},
   "outputs": [
    {
     "name": "stdout",
     "output_type": "stream",
     "text": [
      "Article (4) for Jointly Owned Real Property Register under Law No. (6) includes maintaining a special register of Jointly Owned Real Property by the Dubai Land Department (DLD). This register contains details of land plots owned by Developers, Units intended for individual ownership, names of Owners, details of Owners Committees, Building Management Regulations, Plans, details of Management Entities, contracts for management of Jointly Owned Real Property, total area of Common Parts and Designated Common Parts, details of Developer-owned Areas, and provisions for issuing certificates, deeds, or other related documents based on the register information upon request.\n"
     ]
    }
   ],
   "source": [
    "response = query_engine.query(\n",
    "    \"What is Article(4) for Jointly Owned Real Property Register for Law No.(6)\"\n",
    ")\n",
    "print(str(response))"
   ]
  },
  {
   "cell_type": "code",
   "execution_count": 15,
   "id": "0a7fed77",
   "metadata": {},
   "outputs": [
    {
     "name": "stdout",
     "output_type": "stream",
     "text": [
      "Article (5) states that original documents and court judgments related to the registration of Real Property must be kept by the DLD and cannot be removed from its premises. Interested parties, judicial authorities, or appointed experts and committees may access these documents and obtain certified copies as per the provisions of the law.\n"
     ]
    }
   ],
   "source": [
    "response = query_engine.query(\n",
    "    \"What is Article (5) for Ownership Rules?\"\n",
    ")\n",
    "print(str(response))"
   ]
  },
  {
   "cell_type": "code",
   "execution_count": 16,
   "id": "d3822e27",
   "metadata": {},
   "outputs": [
    {
     "name": "stdout",
     "output_type": "stream",
     "text": [
      "The Plans, Master Community Declaration, Statute, and Building Management Regulation constitute part of the title deed of Jointly Owned Real Property. The Dubai Land Department (DLD) maintains an original copy of each of these documents.\n"
     ]
    }
   ],
   "source": [
    "response = query_engine.query(\n",
    "    \"What is Jointly Owned Real Property Title Deeds Article (6)?\"\n",
    ")\n",
    "print(str(response))"
   ]
  },
  {
   "cell_type": "code",
   "execution_count": 17,
   "id": "832343d5",
   "metadata": {},
   "outputs": [
    {
     "name": "stdout",
     "output_type": "stream",
     "text": [
      "The Components of Common Parts Article (7) of Law No. (6) include various elements such as structural components, thresholds, entrances, utilities systems, elevators, water mains, equipment for Utility Services, and any other necessary parts for the existence and operation of the Jointly Owned Real Property.\n"
     ]
    }
   ],
   "source": [
    "response = query_engine.query(\n",
    "    \"What is Components of Common Parts Article (7)  of Law No. (6)?\"\n",
    ")\n",
    "print(str(response))"
   ]
  },
  {
   "cell_type": "code",
   "execution_count": 18,
   "id": "09436f51",
   "metadata": {},
   "outputs": [
    {
     "name": "stdout",
     "output_type": "stream",
     "text": [
      "Decree No (43) for 2013 regarding the Determination of the Increase in Rent for Properties in the Emirate of Dubai.\n"
     ]
    }
   ],
   "source": [
    "response = query_engine.query(\n",
    "    \"Which law talks about rental increase decree for properties in Emirates Dubai?\"\n",
    ")\n",
    "print(str(response))"
   ]
  },
  {
   "cell_type": "code",
   "execution_count": 19,
   "metadata": {},
   "outputs": [
    {
     "name": "stdout",
     "output_type": "stream",
     "text": [
      "Article (1) states that when renewing real property lease contracts in the Emirate of Dubai, the maximum percentage of rent increase for real property will be as follows: a. no rent increase, where the rent of the real property unit is up to ten percent (10%) less than the average rental value of similar units; b. five percent (5%) of the rent of the real property unit, where the rent is eleven percent (11%) to twenty percent (20%) less than the average rental value of similar units; c. ten percent (10%) of the rent of the real property unit, where the rent is twenty-one percent (21%) to thirty percent (30%) less than the average rental value of similar units; d. fifteen percent (15%) of the rent of the real property unit, where the rent is thirty-one percent (31%) to forty percent (40%) less than the average rental value of similar units; or e. twenty percent (20%) of the rent of the real property unit, where the rent is more than forty percent (40%) less than the average rental value of similar units.\n"
     ]
    }
   ],
   "source": [
    "response = query_engine.query(\n",
    "    \"What is Article (1) for Percentage of increase for rental increase decree for properties in Emirates Dubai?\"\n",
    ")\n",
    "print(str(response))"
   ]
  },
  {
   "cell_type": "code",
   "execution_count": 20,
   "metadata": {},
   "outputs": [
    {
     "name": "stdout",
     "output_type": "stream",
     "text": [
      "Article (2) for Scope of Application outlines the specific regulations and provisions that apply to the registration, obligations, and responsibilities of real property brokers within the real estate sector.\n"
     ]
    }
   ],
   "source": [
    "response = query_engine.query(\n",
    "    \"What does Article (2) for Scope of Application says about?\"\n",
    ")\n",
    "print(str(response))"
   ]
  },
  {
   "cell_type": "code",
   "execution_count": 21,
   "metadata": {},
   "outputs": [
    {
     "name": "stdout",
     "output_type": "stream",
     "text": [
      "Article (3) relates to the submission of an application for registration of a legal disposition of a Real Property Unit after the expiration of a specified time limit, the actions required by the DLD in such a situation, and the fine imposed on the Developer for the delay.\n"
     ]
    }
   ],
   "source": [
    "response = query_engine.query(\n",
    "    \"What does the Article (3) realtes to?\"\n",
    ")\n",
    "print(str(response))"
   ]
  },
  {
   "cell_type": "code",
   "execution_count": 22,
   "metadata": {},
   "outputs": [
    {
     "name": "stdout",
     "output_type": "stream",
     "text": [
      "For the rental increase decree, Article (3) specifies that the average rental value of similar units will be determined according to the \"Rent Index of the Emirate of Dubai\" approved by the Real Estate Regulatory Agency.\n"
     ]
    }
   ],
   "source": [
    "response = query_engine.query(\n",
    "    \"What is Article (3) for rental increase decree?\"\n",
    ")\n",
    "print(str(response))"
   ]
  },
  {
   "cell_type": "code",
   "execution_count": 23,
   "metadata": {},
   "outputs": [
    {
     "name": "stdout",
     "output_type": "stream",
     "text": [
      "Tenancy involves the contractual relationship between a Landlord and a Tenant regarding the use of Real Property. It is regulated by a detailed Tenancy Contract that specifies the description of the leased property, the purpose of tenancy, the term of the contract, the Rent and payment method, and the owner's name if the Landlord is not the owner. The Rent must be specified in the contract, and if not, it will be determined based on similar properties. The parties can agree to renew the contract, adjust Rent, or amend terms before expiry. The Landlord must hand over the property in good condition, and eviction can occur in specific cases outlined by the law.\n"
     ]
    }
   ],
   "source": [
    "response = query_engine.query(\n",
    "    \"What is tenancy all about?\"\n",
    ")\n",
    "print(str(response))"
   ]
  },
  {
   "cell_type": "code",
   "execution_count": 24,
   "metadata": {},
   "outputs": [
    {
     "name": "stdout",
     "output_type": "stream",
     "text": [
      "EJARI Mechanism in Dubai involves the mandatory registration of tenancy contracts through the EJARI online program. It aims to connect all parties involved in property lease and management, including licensed companies, property owners, and landlords, to register and issue contracts. Additionally, EJARI facilitates the registration of management contracts between property owners and licensed real estate companies to define responsibilities and obligations related to property management, tenant services, lease contracts, legal procedures, rent collection, maintenance, and other related tasks.\n"
     ]
    }
   ],
   "source": [
    "response = query_engine.query(\n",
    "    \"What is Ejari Mechanism in Dubai?\"\n",
    ")\n",
    "print(str(response))"
   ]
  },
  {
   "cell_type": "code",
   "execution_count": 25,
   "id": "a74c4248",
   "metadata": {},
   "outputs": [
    {
     "name": "stdout",
     "output_type": "stream",
     "text": [
      "The documents required for registration in EJARI are as follows:\n",
      "- For Owner Manager (Individual): Passport copy and copy of the title deed of any owned property.\n",
      "- For Owner Manager (Company): Copy of the trade license, copy of the title deed of any property owned by the company, copy of the passport of the official representative of the company, letter from the company identifying the qualified users, and copies of the passports of the employees nominated to use the program.\n"
     ]
    }
   ],
   "source": [
    "response = query_engine.query(\n",
    "    \"What are the documents required for registration in Ejari?\"\n",
    ")\n",
    "print(str(response))"
   ]
  },
  {
   "cell_type": "code",
   "execution_count": 26,
   "id": "a0d89025",
   "metadata": {},
   "outputs": [
    {
     "name": "stdout",
     "output_type": "stream",
     "text": [
      "To register lease contracts with RERA, the applicant needs to fill the online form accurately, provide all required documents such as the original lease contract, DEWA invoice, copy of the land map or title deed, copy of the tenant's passport or trade license if a company, and ensure that all information matches with the lease contract. The lease contract should not involve sublease agreements, must adhere to property construction standards, and the purpose of lease and type of use must comply with regulations in the Emirate of Dubai. Additionally, attention should be paid to the contract duration and property type to ensure it aligns with the intended use.\n"
     ]
    }
   ],
   "source": [
    "response = query_engine.query(\n",
    "    \"How to Register Lease Contracts with RERA?\"\n",
    ")\n",
    "print(str(response))"
   ]
  },
  {
   "cell_type": "code",
   "execution_count": 27,
   "id": "6002e53a",
   "metadata": {},
   "outputs": [
    {
     "name": "stdout",
     "output_type": "stream",
     "text": [
      "Tenancy Regulating Legislations refer to the set of laws and regulations that govern the relationship between landlords and tenants in a specific jurisdiction, in this case, the Emirate of Dubai. These legislations outline the rights and responsibilities of both parties, the procedures for tenancy contracts, rent determination, property conditions, eviction reasons, and dispute resolution mechanisms.\n"
     ]
    }
   ],
   "source": [
    "\n",
    "response = query_engine.query(\n",
    "    \"What is Tenancy Regulating Legislations?\"\n",
    ")\n",
    "print(str(response))"
   ]
  },
  {
   "cell_type": "code",
   "execution_count": 28,
   "id": "a9a57e73",
   "metadata": {},
   "outputs": [
    {
     "name": "stdout",
     "output_type": "stream",
     "text": [
      "There are 7 articles in the Tenancy regulating legislations.\n"
     ]
    }
   ],
   "source": [
    "\n",
    "response = query_engine.query(\n",
    "    \"How many articles are there in Tenancy regulating legislations?\"\n",
    ")\n",
    "print(str(response))"
   ]
  },
  {
   "cell_type": "code",
   "execution_count": 29,
   "id": "95e1f0a4",
   "metadata": {},
   "outputs": [
    {
     "name": "stdout",
     "output_type": "stream",
     "text": [
      "Regulate the relationship between Landlords and Tenants in the Emirates of Dubai by ensuring that a written Lease Contract is signed by both parties, specifying details such as the description of the leased Real Property, the purpose of the Lease Contract, the term of the lease, the Rent amount, and the Rent payment method. Additionally, all Lease Contracts must be registered with the Real Estate Regulatory Agency (RERA), and any amendments to the Lease Contracts should also be registered. It is important to adhere to the regulations set forth in the Law to govern the relationship effectively.\n"
     ]
    }
   ],
   "source": [
    "\n",
    "response = query_engine.query(\n",
    "    \"How to regulate the relationship between Landlords and Tenants in the Emirates of Dubai?\"\n",
    ")\n",
    "print(str(response))"
   ]
  },
  {
   "cell_type": "code",
   "execution_count": 30,
   "id": "417df35a",
   "metadata": {},
   "outputs": [
    {
     "name": "stdout",
     "output_type": "stream",
     "text": [
      "The Rent Index is a tool created by RERA in the Emirate of Dubai to determine the rent values of properties of various uses in different regions. It serves as a reference point in case of disputes between landlords and tenants regarding rental rates and increases. The Index includes information on types of properties, rental units, minimum and maximum rent values, and average rent payments. It is divided into regions such as Deira, Dubai, and freehold areas, and covers property uses like residential, commercial, and industrial. Additionally, there are rent calculators available for commercial complexes and malls based on their classifications.\n"
     ]
    }
   ],
   "source": [
    "response = query_engine.query(\n",
    "    \"What is rent Index?\"\n",
    ")\n",
    "print(str(response))"
   ]
  },
  {
   "cell_type": "code",
   "execution_count": 31,
   "id": "290d8b17",
   "metadata": {},
   "outputs": [
    {
     "name": "stdout",
     "output_type": "stream",
     "text": [
      "Rent Increase Calculator is a tool used to determine the rates of increase in rents and identify the rent values in various areas. It allows users to input required data to inquire about the increase rate and the average rent for the area and the unit.\n"
     ]
    }
   ],
   "source": [
    "response = query_engine.query(\n",
    "    \"What is Rent Increase Calculator?\"\n",
    ")\n",
    "print(str(response))"
   ]
  },
  {
   "cell_type": "code",
   "execution_count": 32,
   "id": "fb2347b1",
   "metadata": {},
   "outputs": [
    {
     "name": "stdout",
     "output_type": "stream",
     "text": [
      "This book outlines the regulations and procedures related to tenancy contracts, landlords, tenants, and real property in the Emirate of Dubai. It covers aspects such as the registration of tenancy contracts, determination of rent, renewal of contracts, amending contract terms, dispute settlement procedures, and penalties for real property brokers who violate regulations. The book also includes information on the responsibilities of landlords and tenants, the process of handing over real property, and the requirements for brokers operating in Dubai.\n"
     ]
    }
   ],
   "source": [
    "response = query_engine.query(\n",
    "    \"Can you summarize this whole book?\"\n",
    ")\n",
    "print(str(response))"
   ]
  },
  {
   "cell_type": "code",
   "execution_count": null,
   "id": "e19a477c",
   "metadata": {},
   "outputs": [],
   "source": []
  },
  {
   "cell_type": "code",
   "execution_count": 33,
   "id": "c063c9c7-bf1e-4b24-9a22-d4281c0f954e",
   "metadata": {
    "height": 81,
    "tags": []
   },
   "outputs": [
    {
     "name": "stdout",
     "output_type": "stream",
     "text": [
      "🦑 Tru initialized with db url sqlite:///default.sqlite .\n",
      "🛑 Secret keys may be written to the database. See the `database_redact_keys` option of Tru` to prevent this.\n"
     ]
    }
   ],
   "source": [
    "from trulens_eval import Tru\n",
    "tru = Tru()\n",
    "\n",
    "tru.reset_database()"
   ]
  },
  {
   "cell_type": "markdown",
   "id": "03802825-6ce4-4563-aeec-d8d57e095ad1",
   "metadata": {},
   "source": [
    "For the classroom, we've written some of the code in helper functions inside a utils.py file.  \n",
    "- You can view the utils.py file in the file directory by clicking on the \"Jupyter\" logo at the top of the notebook.\n",
    "- In later lessons, you'll get to work directly with the code that's currently wrapped inside these helper functions, to give you more options to customize your RAG pipeline."
   ]
  },
  {
   "cell_type": "code",
   "execution_count": 34,
   "id": "4f754bed-d16f-4c8d-a1a1-b36096272570",
   "metadata": {
    "height": 81,
    "tags": []
   },
   "outputs": [],
   "source": [
    "from utils import get_prebuilt_trulens_recorder\n",
    "\n",
    "tru_recorder = get_prebuilt_trulens_recorder(query_engine,\n",
    "                                             app_id=\"Direct Query Engine\")"
   ]
  },
  {
   "cell_type": "code",
   "execution_count": 35,
   "id": "4dbdfbcc-aac7-4805-9894-4fc016c66bf6",
   "metadata": {
    "height": 64,
    "tags": []
   },
   "outputs": [],
   "source": [
    "with tru_recorder as recording:\n",
    "    for question in eval_questions:\n",
    "        response = query_engine.query(question)"
   ]
  },
  {
   "cell_type": "code",
   "execution_count": 36,
   "id": "e14f512b-601c-42d0-bfac-bf41d9c577e7",
   "metadata": {
    "height": 30,
    "tags": []
   },
   "outputs": [],
   "source": [
    "records, feedback = tru.get_records_and_feedback(app_ids=[])"
   ]
  },
  {
   "cell_type": "code",
   "execution_count": 37,
   "id": "2da4a602-0d56-4bf8-9fa6-03ef0b7e254b",
   "metadata": {
    "height": 30,
    "tags": []
   },
   "outputs": [
    {
     "data": {
      "text/html": [
       "<div>\n",
       "<style scoped>\n",
       "    .dataframe tbody tr th:only-of-type {\n",
       "        vertical-align: middle;\n",
       "    }\n",
       "\n",
       "    .dataframe tbody tr th {\n",
       "        vertical-align: top;\n",
       "    }\n",
       "\n",
       "    .dataframe thead th {\n",
       "        text-align: right;\n",
       "    }\n",
       "</style>\n",
       "<table border=\"1\" class=\"dataframe\">\n",
       "  <thead>\n",
       "    <tr style=\"text-align: right;\">\n",
       "      <th></th>\n",
       "      <th>app_id</th>\n",
       "      <th>app_json</th>\n",
       "      <th>type</th>\n",
       "      <th>record_id</th>\n",
       "      <th>input</th>\n",
       "      <th>output</th>\n",
       "      <th>tags</th>\n",
       "      <th>record_json</th>\n",
       "      <th>cost_json</th>\n",
       "      <th>perf_json</th>\n",
       "      <th>ts</th>\n",
       "      <th>Answer Relevance</th>\n",
       "      <th>Groundedness</th>\n",
       "      <th>Context Relevance</th>\n",
       "      <th>Answer Relevance_calls</th>\n",
       "      <th>Groundedness_calls</th>\n",
       "      <th>Context Relevance_calls</th>\n",
       "      <th>latency</th>\n",
       "      <th>total_tokens</th>\n",
       "      <th>total_cost</th>\n",
       "    </tr>\n",
       "  </thead>\n",
       "  <tbody>\n",
       "    <tr>\n",
       "      <th>0</th>\n",
       "      <td>Direct Query Engine</td>\n",
       "      <td>{\"tru_class_info\": {\"name\": \"TruLlama\", \"modul...</td>\n",
       "      <td>RetrieverQueryEngine(llama_index.core.query_en...</td>\n",
       "      <td>record_hash_fd01f13d48e8d30ae0e01bd7e3ef85cc</td>\n",
       "      <td>\"How much is the fine for the person who is no...</td>\n",
       "      <td>\"The fine for a person who is not registered o...</td>\n",
       "      <td>-</td>\n",
       "      <td>{\"record_id\": \"record_hash_fd01f13d48e8d30ae0e...</td>\n",
       "      <td>{\"n_requests\": 1, \"n_successful_requests\": 1, ...</td>\n",
       "      <td>{\"start_time\": \"2024-02-25T14:35:40.473114\", \"...</td>\n",
       "      <td>2024-02-25T14:35:43.436465</td>\n",
       "      <td>0.9</td>\n",
       "      <td>0.0</td>\n",
       "      <td>0.0</td>\n",
       "      <td>[{'args': {'prompt': 'How much is the fine for...</td>\n",
       "      <td>[{'args': {'source': '000.00\n",
       "30% of the \n",
       "marke...</td>\n",
       "      <td>[{'args': {'prompt': 'How much is the fine for...</td>\n",
       "      <td>2</td>\n",
       "      <td>2156</td>\n",
       "      <td>0.003243</td>\n",
       "    </tr>\n",
       "    <tr>\n",
       "      <th>1</th>\n",
       "      <td>Direct Query Engine</td>\n",
       "      <td>{\"tru_class_info\": {\"name\": \"TruLlama\", \"modul...</td>\n",
       "      <td>RetrieverQueryEngine(llama_index.core.query_en...</td>\n",
       "      <td>record_hash_9663e79fb73b5433289a25c47fee5bd4</td>\n",
       "      <td>\"How much is the fine for obstructing the work...</td>\n",
       "      <td>\"The fine for obstructing the work of RERA emp...</td>\n",
       "      <td>-</td>\n",
       "      <td>{\"record_id\": \"record_hash_9663e79fb73b5433289...</td>\n",
       "      <td>{\"n_requests\": 1, \"n_successful_requests\": 1, ...</td>\n",
       "      <td>{\"start_time\": \"2024-02-25T14:35:43.808532\", \"...</td>\n",
       "      <td>2024-02-25T14:35:46.206843</td>\n",
       "      <td>1.0</td>\n",
       "      <td>0.0</td>\n",
       "      <td>0.0</td>\n",
       "      <td>[{'args': {'prompt': 'How much is the fine for...</td>\n",
       "      <td>[{'args': {'source': 'f. Where the cash reserv...</td>\n",
       "      <td>[{'args': {'prompt': 'How much is the fine for...</td>\n",
       "      <td>2</td>\n",
       "      <td>2146</td>\n",
       "      <td>0.003230</td>\n",
       "    </tr>\n",
       "    <tr>\n",
       "      <th>2</th>\n",
       "      <td>Direct Query Engine</td>\n",
       "      <td>{\"tru_class_info\": {\"name\": \"TruLlama\", \"modul...</td>\n",
       "      <td>RetrieverQueryEngine(llama_index.core.query_en...</td>\n",
       "      <td>record_hash_613ba0373ef43d5d08c8754f0bddcb8c</td>\n",
       "      <td>\"How much is the fine for Failure to comply wi...</td>\n",
       "      <td>\"The fine for Failure to comply with the oblig...</td>\n",
       "      <td>-</td>\n",
       "      <td>{\"record_id\": \"record_hash_613ba0373ef43d5d08c...</td>\n",
       "      <td>{\"n_requests\": 1, \"n_successful_requests\": 1, ...</td>\n",
       "      <td>{\"start_time\": \"2024-02-25T14:35:46.523445\", \"...</td>\n",
       "      <td>2024-02-25T14:35:48.156325</td>\n",
       "      <td>1.0</td>\n",
       "      <td>0.0</td>\n",
       "      <td>0.1</td>\n",
       "      <td>[{'args': {'prompt': 'How much is the fine for...</td>\n",
       "      <td>[{'args': {'source': 'Fees for dispositions ot...</td>\n",
       "      <td>[{'args': {'prompt': 'How much is the fine for...</td>\n",
       "      <td>1</td>\n",
       "      <td>2017</td>\n",
       "      <td>0.003038</td>\n",
       "    </tr>\n",
       "    <tr>\n",
       "      <th>3</th>\n",
       "      <td>Direct Query Engine</td>\n",
       "      <td>{\"tru_class_info\": {\"name\": \"TruLlama\", \"modul...</td>\n",
       "      <td>RetrieverQueryEngine(llama_index.core.query_en...</td>\n",
       "      <td>record_hash_22f2937a3e8091b312cf04c038f39f97</td>\n",
       "      <td>\"What is  Law No. (6) of 2019 Concerning Owner...</td>\n",
       "      <td>\"Law No. (6) of 2019 Concerning Ownership of J...</td>\n",
       "      <td>-</td>\n",
       "      <td>{\"record_id\": \"record_hash_22f2937a3e8091b312c...</td>\n",
       "      <td>{\"n_requests\": 1, \"n_successful_requests\": 1, ...</td>\n",
       "      <td>{\"start_time\": \"2024-02-25T14:35:48.497956\", \"...</td>\n",
       "      <td>2024-02-25T14:36:52.040698</td>\n",
       "      <td>1.0</td>\n",
       "      <td>1.0</td>\n",
       "      <td>1.0</td>\n",
       "      <td>[{'args': {'prompt': 'What is  Law No. (6) of ...</td>\n",
       "      <td>[{'args': {'source': '(26) of 2013 Concerning ...</td>\n",
       "      <td>[{'args': {'prompt': 'What is  Law No. (6) of ...</td>\n",
       "      <td>63</td>\n",
       "      <td>1913</td>\n",
       "      <td>0.002922</td>\n",
       "    </tr>\n",
       "    <tr>\n",
       "      <th>4</th>\n",
       "      <td>Direct Query Engine</td>\n",
       "      <td>{\"tru_class_info\": {\"name\": \"TruLlama\", \"modul...</td>\n",
       "      <td>RetrieverQueryEngine(llama_index.core.query_en...</td>\n",
       "      <td>record_hash_e4b2ad14bb35027475c284ed7fd8b5de</td>\n",
       "      <td>\"What is Article(3) Scope of Application for L...</td>\n",
       "      <td>\"The provisions of Law No. (6) apply to all Ma...</td>\n",
       "      <td>-</td>\n",
       "      <td>{\"record_id\": \"record_hash_e4b2ad14bb35027475c...</td>\n",
       "      <td>{\"n_requests\": 1, \"n_successful_requests\": 1, ...</td>\n",
       "      <td>{\"start_time\": \"2024-02-25T14:36:52.352592\", \"...</td>\n",
       "      <td>2024-02-25T14:36:56.035737</td>\n",
       "      <td>1.0</td>\n",
       "      <td>0.5</td>\n",
       "      <td>0.6</td>\n",
       "      <td>[{'args': {'prompt': 'What is Article(3) Scope...</td>\n",
       "      <td>[{'args': {'source': 'Article (7)\n",
       "The Division...</td>\n",
       "      <td>[{'args': {'prompt': 'What is Article(3) Scope...</td>\n",
       "      <td>3</td>\n",
       "      <td>1872</td>\n",
       "      <td>0.002826</td>\n",
       "    </tr>\n",
       "  </tbody>\n",
       "</table>\n",
       "</div>"
      ],
      "text/plain": [
       "                app_id                                           app_json  \\\n",
       "0  Direct Query Engine  {\"tru_class_info\": {\"name\": \"TruLlama\", \"modul...   \n",
       "1  Direct Query Engine  {\"tru_class_info\": {\"name\": \"TruLlama\", \"modul...   \n",
       "2  Direct Query Engine  {\"tru_class_info\": {\"name\": \"TruLlama\", \"modul...   \n",
       "3  Direct Query Engine  {\"tru_class_info\": {\"name\": \"TruLlama\", \"modul...   \n",
       "4  Direct Query Engine  {\"tru_class_info\": {\"name\": \"TruLlama\", \"modul...   \n",
       "\n",
       "                                                type  \\\n",
       "0  RetrieverQueryEngine(llama_index.core.query_en...   \n",
       "1  RetrieverQueryEngine(llama_index.core.query_en...   \n",
       "2  RetrieverQueryEngine(llama_index.core.query_en...   \n",
       "3  RetrieverQueryEngine(llama_index.core.query_en...   \n",
       "4  RetrieverQueryEngine(llama_index.core.query_en...   \n",
       "\n",
       "                                      record_id  \\\n",
       "0  record_hash_fd01f13d48e8d30ae0e01bd7e3ef85cc   \n",
       "1  record_hash_9663e79fb73b5433289a25c47fee5bd4   \n",
       "2  record_hash_613ba0373ef43d5d08c8754f0bddcb8c   \n",
       "3  record_hash_22f2937a3e8091b312cf04c038f39f97   \n",
       "4  record_hash_e4b2ad14bb35027475c284ed7fd8b5de   \n",
       "\n",
       "                                               input  \\\n",
       "0  \"How much is the fine for the person who is no...   \n",
       "1  \"How much is the fine for obstructing the work...   \n",
       "2  \"How much is the fine for Failure to comply wi...   \n",
       "3  \"What is  Law No. (6) of 2019 Concerning Owner...   \n",
       "4  \"What is Article(3) Scope of Application for L...   \n",
       "\n",
       "                                              output tags  \\\n",
       "0  \"The fine for a person who is not registered o...    -   \n",
       "1  \"The fine for obstructing the work of RERA emp...    -   \n",
       "2  \"The fine for Failure to comply with the oblig...    -   \n",
       "3  \"Law No. (6) of 2019 Concerning Ownership of J...    -   \n",
       "4  \"The provisions of Law No. (6) apply to all Ma...    -   \n",
       "\n",
       "                                         record_json  \\\n",
       "0  {\"record_id\": \"record_hash_fd01f13d48e8d30ae0e...   \n",
       "1  {\"record_id\": \"record_hash_9663e79fb73b5433289...   \n",
       "2  {\"record_id\": \"record_hash_613ba0373ef43d5d08c...   \n",
       "3  {\"record_id\": \"record_hash_22f2937a3e8091b312c...   \n",
       "4  {\"record_id\": \"record_hash_e4b2ad14bb35027475c...   \n",
       "\n",
       "                                           cost_json  \\\n",
       "0  {\"n_requests\": 1, \"n_successful_requests\": 1, ...   \n",
       "1  {\"n_requests\": 1, \"n_successful_requests\": 1, ...   \n",
       "2  {\"n_requests\": 1, \"n_successful_requests\": 1, ...   \n",
       "3  {\"n_requests\": 1, \"n_successful_requests\": 1, ...   \n",
       "4  {\"n_requests\": 1, \"n_successful_requests\": 1, ...   \n",
       "\n",
       "                                           perf_json  \\\n",
       "0  {\"start_time\": \"2024-02-25T14:35:40.473114\", \"...   \n",
       "1  {\"start_time\": \"2024-02-25T14:35:43.808532\", \"...   \n",
       "2  {\"start_time\": \"2024-02-25T14:35:46.523445\", \"...   \n",
       "3  {\"start_time\": \"2024-02-25T14:35:48.497956\", \"...   \n",
       "4  {\"start_time\": \"2024-02-25T14:36:52.352592\", \"...   \n",
       "\n",
       "                           ts  Answer Relevance  Groundedness  \\\n",
       "0  2024-02-25T14:35:43.436465               0.9           0.0   \n",
       "1  2024-02-25T14:35:46.206843               1.0           0.0   \n",
       "2  2024-02-25T14:35:48.156325               1.0           0.0   \n",
       "3  2024-02-25T14:36:52.040698               1.0           1.0   \n",
       "4  2024-02-25T14:36:56.035737               1.0           0.5   \n",
       "\n",
       "   Context Relevance                             Answer Relevance_calls  \\\n",
       "0                0.0  [{'args': {'prompt': 'How much is the fine for...   \n",
       "1                0.0  [{'args': {'prompt': 'How much is the fine for...   \n",
       "2                0.1  [{'args': {'prompt': 'How much is the fine for...   \n",
       "3                1.0  [{'args': {'prompt': 'What is  Law No. (6) of ...   \n",
       "4                0.6  [{'args': {'prompt': 'What is Article(3) Scope...   \n",
       "\n",
       "                                  Groundedness_calls  \\\n",
       "0  [{'args': {'source': '000.00\n",
       "30% of the \n",
       "marke...   \n",
       "1  [{'args': {'source': 'f. Where the cash reserv...   \n",
       "2  [{'args': {'source': 'Fees for dispositions ot...   \n",
       "3  [{'args': {'source': '(26) of 2013 Concerning ...   \n",
       "4  [{'args': {'source': 'Article (7)\n",
       "The Division...   \n",
       "\n",
       "                             Context Relevance_calls  latency  total_tokens  \\\n",
       "0  [{'args': {'prompt': 'How much is the fine for...        2          2156   \n",
       "1  [{'args': {'prompt': 'How much is the fine for...        2          2146   \n",
       "2  [{'args': {'prompt': 'How much is the fine for...        1          2017   \n",
       "3  [{'args': {'prompt': 'What is  Law No. (6) of ...       63          1913   \n",
       "4  [{'args': {'prompt': 'What is Article(3) Scope...        3          1872   \n",
       "\n",
       "   total_cost  \n",
       "0    0.003243  \n",
       "1    0.003230  \n",
       "2    0.003038  \n",
       "3    0.002922  \n",
       "4    0.002826  "
      ]
     },
     "execution_count": 37,
     "metadata": {},
     "output_type": "execute_result"
    }
   ],
   "source": [
    "records.head()"
   ]
  },
  {
   "cell_type": "code",
   "execution_count": 38,
   "id": "64310897-179b-4081-aab8-f08a3392a078",
   "metadata": {
    "height": 47,
    "tags": []
   },
   "outputs": [
    {
     "name": "stdout",
     "output_type": "stream",
     "text": [
      "Starting dashboard ...\n",
      "Config file already exists. Skipping writing process.\n",
      "Credentials file already exists. Skipping writing process.\n"
     ]
    },
    {
     "name": "stderr",
     "output_type": "stream",
     "text": [
      "huggingface/tokenizers: The current process just got forked, after parallelism has already been used. Disabling parallelism to avoid deadlocks...\n",
      "To disable this warning, you can either:\n",
      "\t- Avoid using `tokenizers` before the fork if possible\n",
      "\t- Explicitly set the environment variable TOKENIZERS_PARALLELISM=(true | false)\n"
     ]
    },
    {
     "data": {
      "application/vnd.jupyter.widget-view+json": {
       "model_id": "ae3ffe30733241578bafdbcda67fbe7c",
       "version_major": 2,
       "version_minor": 0
      },
      "text/plain": [
       "Accordion(children=(VBox(children=(VBox(children=(Label(value='STDOUT'), Output())), VBox(children=(Label(valu…"
      ]
     },
     "metadata": {},
     "output_type": "display_data"
    },
    {
     "name": "stdout",
     "output_type": "stream",
     "text": [
      "Dashboard started at http://192.168.70.101:8501 .\n"
     ]
    },
    {
     "data": {
      "text/plain": [
       "<Popen: returncode: None args: ['streamlit', 'run', '--server.headless=True'...>"
      ]
     },
     "execution_count": 38,
     "metadata": {},
     "output_type": "execute_result"
    }
   ],
   "source": [
    "# launches on http://localhost:8501/\n",
    "tru.run_dashboard()"
   ]
  },
  {
   "cell_type": "markdown",
   "id": "a4eedcef",
   "metadata": {},
   "source": [
    "## Advanced RAG pipeline"
   ]
  },
  {
   "cell_type": "markdown",
   "id": "9a17ea2b",
   "metadata": {},
   "source": [
    "### 1. Sentence Window retrieval"
   ]
  },
  {
   "cell_type": "code",
   "execution_count": 39,
   "id": "dae4a668-3699-4750-82f7-e53ae1bca3a7",
   "metadata": {
    "height": 64,
    "tags": []
   },
   "outputs": [],
   "source": [
    "from llama_index.llms.openai import OpenAI\n",
    "\n",
    "llm = OpenAI(model=\"gpt-3.5-turbo\", temperature=0.1)"
   ]
  },
  {
   "cell_type": "code",
   "execution_count": 40,
   "id": "78f7678f-358d-448d-b153-11ac8e96a7fc",
   "metadata": {
    "height": 149,
    "tags": []
   },
   "outputs": [],
   "source": [
    "from utils import build_sentence_window_index\n",
    "\n",
    "sentence_index = build_sentence_window_index(\n",
    "    document,\n",
    "    llm,\n",
    "    embed_model=\"local:BAAI/bge-small-en-v1.5\",\n",
    "    save_dir=\"sentence_index\"\n",
    ")"
   ]
  },
  {
   "cell_type": "code",
   "execution_count": 41,
   "id": "72f904c3-9845-4df5-9d2e-e5115160f987",
   "metadata": {
    "height": 64,
    "tags": []
   },
   "outputs": [],
   "source": [
    "from utils import get_sentence_window_query_engine\n",
    "\n",
    "sentence_window_engine = get_sentence_window_query_engine(sentence_index)"
   ]
  },
  {
   "cell_type": "code",
   "execution_count": 42,
   "id": "f59e2314-7cac-42f4-a552-9a8e4db641eb",
   "metadata": {
    "height": 81,
    "tags": []
   },
   "outputs": [
    {
     "name": "stdout",
     "output_type": "stream",
     "text": [
      "The fine for Failure to comply with the obligations stipulated in Article (16) of this Resolution is not explicitly mentioned in the provided context information.\n"
     ]
    }
   ],
   "source": [
    "window_response = sentence_window_engine.query(\n",
    "    \"How much is the fine for Failure to comply with the obligations stipulated in Article (16) of this Resolution?\"\n",
    ")\n",
    "print(str(window_response))"
   ]
  },
  {
   "cell_type": "code",
   "execution_count": 43,
   "id": "b5c10917-8846-4e73-838d-6232c906a7db",
   "metadata": {
    "height": 115,
    "tags": []
   },
   "outputs": [
    {
     "name": "stderr",
     "output_type": "stream",
     "text": [
      "Exception in thread Thread-7:\n",
      "Traceback (most recent call last):\n",
      "  File \"/Users/tarique/anaconda3/envs/rag/lib/python3.9/threading.py\", line 980, in _bootstrap_inner\n",
      "    self.run()\n",
      "  File \"/Users/tarique/anaconda3/envs/rag/lib/python3.9/site-packages/ipykernel/ipkernel.py\", line 761, in run_closure\n",
      "    _threading_Thread_run(self)\n",
      "  File \"/Users/tarique/anaconda3/envs/rag/lib/python3.9/threading.py\", line 917, in run\n",
      "    self._target(*self._args, **self._kwargs)\n",
      "  File \"/Users/tarique/anaconda3/envs/rag/lib/python3.9/site-packages/trulens_eval/utils/python.py\", line 374, in _future_target_wrapper\n",
      "    return func(*args, **kwargs)\n",
      "  File \"/Users/tarique/anaconda3/envs/rag/lib/python3.9/site-packages/trulens_eval/app.py\", line 559, in _manage_pending_feedback_results\n",
      "    record.wait_for_feedback_results()\n",
      "  File \"/Users/tarique/anaconda3/envs/rag/lib/python3.9/site-packages/trulens_eval/schema.py\", line 277, in wait_for_feedback_results\n",
      "    feedback_result = future_result.result()\n",
      "  File \"/Users/tarique/anaconda3/envs/rag/lib/python3.9/concurrent/futures/_base.py\", line 446, in result\n",
      "    return self.__get_result()\n",
      "  File \"/Users/tarique/anaconda3/envs/rag/lib/python3.9/concurrent/futures/_base.py\", line 391, in __get_result\n",
      "    raise self._exception\n",
      "  File \"/Users/tarique/anaconda3/envs/rag/lib/python3.9/concurrent/futures/_base.py\", line 330, in _invoke_callbacks\n",
      "    callback(self)\n",
      "  File \"/Users/tarique/anaconda3/envs/rag/lib/python3.9/site-packages/trulens_eval/app.py\", line 1168, in _add_future_feedback\n",
      "    res = future_result.result()\n",
      "  File \"/Users/tarique/anaconda3/envs/rag/lib/python3.9/concurrent/futures/_base.py\", line 439, in result\n",
      "    return self.__get_result()\n",
      "  File \"/Users/tarique/anaconda3/envs/rag/lib/python3.9/concurrent/futures/_base.py\", line 391, in __get_result\n",
      "    raise self._exception\n",
      "  File \"/Users/tarique/anaconda3/envs/rag/lib/python3.9/concurrent/futures/thread.py\", line 58, in run\n",
      "    result = self.fn(*self.args, **self.kwargs)\n",
      "  File \"/Users/tarique/anaconda3/envs/rag/lib/python3.9/site-packages/trulens_eval/utils/python.py\", line 374, in _future_target_wrapper\n",
      "    return func(*args, **kwargs)\n",
      "  File \"/Users/tarique/anaconda3/envs/rag/lib/python3.9/site-packages/trulens_eval/utils/threading.py\", line 168, in _run_with_timeout\n",
      "    raise e\n",
      "  File \"/Users/tarique/anaconda3/envs/rag/lib/python3.9/site-packages/trulens_eval/utils/threading.py\", line 159, in _run_with_timeout\n",
      "    res: T = fut.result(timeout=timeout)\n",
      "  File \"/Users/tarique/anaconda3/envs/rag/lib/python3.9/concurrent/futures/_base.py\", line 448, in result\n",
      "    raise TimeoutError()\n",
      "concurrent.futures._base.TimeoutError\n"
     ]
    }
   ],
   "source": [
    "tru.reset_database()\n",
    "\n",
    "tru_recorder_sentence_window = get_prebuilt_trulens_recorder(\n",
    "    sentence_window_engine,\n",
    "    app_id = \"Sentence Window Query Engine\"\n",
    ")"
   ]
  },
  {
   "cell_type": "code",
   "execution_count": null,
   "id": "11710e67-aba8-479e-8585-c4c611e2c1d2",
   "metadata": {
    "height": 98,
    "tags": []
   },
   "outputs": [
    {
     "name": "stdout",
     "output_type": "stream",
     "text": [
      "How much is the fine for the person who is not registered on the roll?\n",
      "The fine for a person who is not registered on the roll is 20,000 Dirhams.\n",
      "How much is the fine for obstructing the work of RERA employees?\n",
      "The fine for obstructing the work of RERA employees is AED 50,000.\n",
      "How much is the fine for Failure to comply with the obligations stipulated in Article (16) of this Resolution?\n",
      "The fine for Failure to comply with the obligations stipulated in Article (16) of this Resolution is not explicitly mentioned in the provided context information.\n",
      "What is  Law No. (6) of 2019 Concerning Ownership of Jointly Owned Real Property in the Emirate of Dubai all about?\n",
      "Law No. (6) of 2019 Concerning Ownership of Jointly Owned Real Property in the Emirate of Dubai is a legislation that addresses the ownership and management of jointly owned real property in Dubai.\n",
      "What is Article(3) Scope of Application for Law No.(6)\n",
      "The provisions of Law No. (6) apply to the Real Property existing in the Emirate.\n",
      "What is Article(4) for Jointly Owned Real Property Register for Law No.(6)\n",
      "Article (4) for Jointly Owned Real Property Register for Law No. (6) outlines the specific details that the Dubai Land Department (DLD) is required to maintain in a special register related to Jointly Owned Real Property. This includes information such as land plots owned by Developers, details of Units intended for individual ownership, names of Owners of these Units, members of Owners Committees, Building Management Regulations, plans, details of Management Entities, contracts for management of Jointly Owned Real Property or Common Parts, total area of Common Parts and Designated Common Parts, ratio to the total area of Units, and details of Developer-owned Areas in Jointly Owned Real Property. Additionally, the DLD is responsible for issuing certificates, deeds, or other documents related to Units or Jointly Owned Real Property based on the information in the register upon request by concerned parties.\n",
      "What is Article (5) for Ownership Rules\n",
      "Article (5) for Ownership Rules states that the rules and conditions stipulated in Law No. (7) of 2006 apply to the ownership of Jointly Owned Real Property.\n",
      "What is Jointly Owned Real Property Title Deeds Article (6)\n",
      "Jointly Owned Real Property Title Deeds Article (6) states that the Plans, Master Community Declaration, Statute, and Building Management Regulation are integral parts of the title deed of Jointly Owned Real Property. The Dubai Land Department (DLD) is responsible for maintaining original copies of these documents. Additionally, occupants are obligated to adhere to the Master Community Declaration, Statute, and Building Management Regulation in relation to their unit.\n",
      "What is Components of Common Parts Article (7)  of Law No. (6)\n",
      "The Components of Common Parts Article (7) of Law No. (6) includes various elements such as structural components of the Jointly Owned Real Property, equipment and systems of main utilities, elevators, water mains, sewer pipes, and any other parts outside the boundaries of Units necessary for the existence, maintenance, sustainability, safety, or operation of the Jointly Owned Real Property.\n",
      "Which law talks about rental increase decree for properties in Emirates Dubai?\n",
      "Law No (26) for 2007 regarding Regulation the Relationship between Landlords and Tenants of Properties in the Emirate of Dubai and its amendments.\n",
      "What is Article (1) for Percentage of increase for rental increase decree for properties in Emirates Dubai?\n",
      "The maximum rent increase percentage for properties in the Emirate of Dubai at the renewal of lease is determined as follows:\n",
      "a. No rent increase if the rent is up to ten percent less than the average rental value of similar units.\n",
      "b. Five percent of the rental value if the rent is between eleven percent to twenty percent less than the average rental value of similar units.\n",
      "What does Article (2) for Scope of Application says about?\n",
      "Article (2) for Scope of Application states that the provisions of the Decree apply to the Special Tribunal to Determine Disputes between Landlords and Tenants, which is now renamed as the Rental Disputes Settlement Centre in the Emirate of Dubai.\n",
      "What does the Article (3) realtes to?\n",
      "Article (3) relates to the application of the law to land and Real Property leased out in the Emirate, excluding Real Property provided free of Rent by natural or legal persons as accommodation for their employees.\n",
      "What is Article (3) for rental increase decree?\n",
      "Article (3) of the rental increase decree aims to establish a specialized judicial system to hear Rental Disputes and develop a procedure for determining such disputes through an expeditious and simple process to achieve social and economic stability for all individuals involved in the Real Property rental sector and related sectors.\n",
      "What is tenancy all about?\n",
      "Tenancy involves a contract where a Landlord agrees to allow a Tenant to use Real Property for a specific purpose over a specific term in exchange for a specified consideration. It is a legal agreement that grants the Tenant the right to occupy and utilize the property according to the terms outlined in the contract.\n",
      "What is Ejari Mechanism in Dubai?\n",
      "The Ejari Mechanism in Dubai involves the mandatory registration of tenancy contracts through the online program developed by RERA. This mechanism aims to connect all parties involved in the property lease and management sector, including licensed companies, property owners, landlords, or their legal representatives, enabling them to register and issue contracts to regulate the process of real estate lease and management effectively.\n",
      "What are the documents required for registration in Ejari?\n",
      "The documents required for registration in EJARI are a passport copy and a copy of the title deed of any owned property to verify the number of the owner.\n",
      "How to Register Lease Contracts with RERA\n",
      "To register lease contracts with RERA, the owner who personally manages the property needs to complete the property management statement form (CD) with the property and lease contract information. Additionally, the owner must attach the required documents, which include a copy of the passport, a copy of the title deed and land map from the Land Department, and a copy of the power of attorney if the property is jointly owned. It is important to ensure that all necessary information is provided accurately and in accordance with the guidelines set by RERA for the registration process.\n",
      "What is Tenancy Regulating Legislations?\n",
      "Tenancy Regulating Legislations refer to the laws and regulations that govern the relationship between landlords and tenants in the Emirate of Dubai.\n",
      "How many articles are there in Tenancy regulating legislations?\n",
      "There are 36 articles in the Tenancy regulating legislations.\n",
      "How to regulate the relationship between Landlords and Tenants in the Emirates of Dubai?\n",
      "The relationship between landlords and tenants in the Emirate of Dubai is regulated through specific legislation that defines terms, establishes a Special Tribunal for dispute resolution, and designates the Real Estate Regulatory Agency for oversight. This legislation outlines the rights and responsibilities of both landlords and tenants, ensuring fair treatment and resolving disputes through legal channels.\n",
      "What is rent Index?\n",
      "Rent Index is a tool created by RERA in accordance with Law No. (1) of 2009 in Dubai. It is periodically updated by RERA and serves as a guide to determine the rent values of properties in different categories (residential, commercial, industrial) across all regions of Dubai. Additionally, there are rent calculators available for commercial complexes and malls based on their classifications, as well as specific indexes for projects in freehold areas.\n",
      "What is Rent Increase Calculator?\n",
      "Rent Increase Calculator is a tool available on the official website of Dubai Real Estate Community that assists users in calculating rates of rent increase and determining the average rent for specific areas and units. Users can input required data into the calculator to easily find out the increase rate and average rent values.\n",
      "How to find the best tenancy option in Dubai?\n",
      "To find the best tenancy option in Dubai, one should identify the rent value of the property, determine the duration of the lease contract, agree upon the insured sum with the landlord, and ensure that the landlord complies with RERA regulations and the Landlords and Tenants Law issued in the Emirate of Dubai. Additionally, consulting the Property Rent Index created by RERA can provide guidance on determining the rent values of properties in different regions of Dubai.\n"
     ]
    },
    {
     "name": "stderr",
     "output_type": "stream",
     "text": [
      "Run of run in <Thread(TP.submit with debug timeout_3, started 123145697374208)> timed out after 600.0 second(s).\n",
      "None\n",
      "exception calling callback for <Future at 0x7fc8dc976460 state=finished raised TimeoutError>\n",
      "Traceback (most recent call last):\n",
      "  File \"/Users/tarique/anaconda3/envs/rag/lib/python3.9/concurrent/futures/_base.py\", line 330, in _invoke_callbacks\n",
      "    callback(self)\n",
      "  File \"/Users/tarique/anaconda3/envs/rag/lib/python3.9/site-packages/trulens_eval/app.py\", line 1168, in _add_future_feedback\n",
      "    res = future_result.result()\n",
      "  File \"/Users/tarique/anaconda3/envs/rag/lib/python3.9/concurrent/futures/_base.py\", line 439, in result\n",
      "    return self.__get_result()\n",
      "  File \"/Users/tarique/anaconda3/envs/rag/lib/python3.9/concurrent/futures/_base.py\", line 391, in __get_result\n",
      "    raise self._exception\n",
      "  File \"/Users/tarique/anaconda3/envs/rag/lib/python3.9/concurrent/futures/thread.py\", line 58, in run\n",
      "    result = self.fn(*self.args, **self.kwargs)\n",
      "  File \"/Users/tarique/anaconda3/envs/rag/lib/python3.9/site-packages/trulens_eval/utils/python.py\", line 374, in _future_target_wrapper\n",
      "    return func(*args, **kwargs)\n",
      "  File \"/Users/tarique/anaconda3/envs/rag/lib/python3.9/site-packages/trulens_eval/utils/threading.py\", line 168, in _run_with_timeout\n",
      "    raise e\n",
      "  File \"/Users/tarique/anaconda3/envs/rag/lib/python3.9/site-packages/trulens_eval/utils/threading.py\", line 159, in _run_with_timeout\n",
      "    res: T = fut.result(timeout=timeout)\n",
      "  File \"/Users/tarique/anaconda3/envs/rag/lib/python3.9/concurrent/futures/_base.py\", line 448, in result\n",
      "    raise TimeoutError()\n",
      "concurrent.futures._base.TimeoutError\n"
     ]
    }
   ],
   "source": [
    "for question in eval_questions:\n",
    "    with tru_recorder_sentence_window as recording:\n",
    "        response = sentence_window_engine.query(question)\n",
    "        print(question)\n",
    "        print(str(response))"
   ]
  },
  {
   "cell_type": "code",
   "execution_count": 45,
   "id": "869d1e55-729b-45f2-a0f9-773c49d4616f",
   "metadata": {
    "height": 30,
    "tags": []
   },
   "outputs": [
    {
     "data": {
      "text/html": [
       "<div>\n",
       "<style scoped>\n",
       "    .dataframe tbody tr th:only-of-type {\n",
       "        vertical-align: middle;\n",
       "    }\n",
       "\n",
       "    .dataframe tbody tr th {\n",
       "        vertical-align: top;\n",
       "    }\n",
       "\n",
       "    .dataframe thead th {\n",
       "        text-align: right;\n",
       "    }\n",
       "</style>\n",
       "<table border=\"1\" class=\"dataframe\">\n",
       "  <thead>\n",
       "    <tr style=\"text-align: right;\">\n",
       "      <th></th>\n",
       "      <th>Groundedness</th>\n",
       "      <th>Answer Relevance</th>\n",
       "      <th>Context Relevance</th>\n",
       "      <th>latency</th>\n",
       "      <th>total_cost</th>\n",
       "    </tr>\n",
       "    <tr>\n",
       "      <th>app_id</th>\n",
       "      <th></th>\n",
       "      <th></th>\n",
       "      <th></th>\n",
       "      <th></th>\n",
       "      <th></th>\n",
       "    </tr>\n",
       "  </thead>\n",
       "  <tbody>\n",
       "    <tr>\n",
       "      <th>Sentence Window Query Engine</th>\n",
       "      <td>0.722222</td>\n",
       "      <td>0.982609</td>\n",
       "      <td>0.7375</td>\n",
       "      <td>10.208333</td>\n",
       "      <td>0.00129</td>\n",
       "    </tr>\n",
       "  </tbody>\n",
       "</table>\n",
       "</div>"
      ],
      "text/plain": [
       "                              Groundedness  Answer Relevance  \\\n",
       "app_id                                                         \n",
       "Sentence Window Query Engine      0.722222          0.982609   \n",
       "\n",
       "                              Context Relevance    latency  total_cost  \n",
       "app_id                                                                  \n",
       "Sentence Window Query Engine             0.7375  10.208333     0.00129  "
      ]
     },
     "execution_count": 45,
     "metadata": {},
     "output_type": "execute_result"
    }
   ],
   "source": [
    "tru.get_leaderboard(app_ids=[])"
   ]
  },
  {
   "cell_type": "code",
   "execution_count": 46,
   "id": "0b92d0f2-2e80-48d5-92af-b3655eb03ea2",
   "metadata": {
    "height": 47,
    "tags": []
   },
   "outputs": [
    {
     "name": "stdout",
     "output_type": "stream",
     "text": [
      "Starting dashboard ...\n",
      "Config file already exists. Skipping writing process.\n",
      "Credentials file already exists. Skipping writing process.\n",
      "Dashboard already running at path:   Network URL: http://192.168.70.101:8501\n",
      "\n"
     ]
    },
    {
     "data": {
      "text/plain": [
       "<Popen: returncode: None args: ['streamlit', 'run', '--server.headless=True'...>"
      ]
     },
     "execution_count": 46,
     "metadata": {},
     "output_type": "execute_result"
    }
   ],
   "source": [
    "# launches on http://localhost:8501/\n",
    "tru.run_dashboard()"
   ]
  },
  {
   "cell_type": "markdown",
   "id": "a92e2c55",
   "metadata": {},
   "source": [
    "### 2. Auto-merging retrieval"
   ]
  },
  {
   "cell_type": "code",
   "execution_count": 47,
   "id": "558c639b-31eb-4c34-b6c4-fe6ae5717733",
   "metadata": {
    "height": 149,
    "tags": []
   },
   "outputs": [],
   "source": [
    "from utils import build_automerging_index\n",
    "\n",
    "automerging_index = build_automerging_index(\n",
    "    documents,\n",
    "    llm,\n",
    "    embed_model=\"local:BAAI/bge-small-en-v1.5\",\n",
    "    save_dir=\"merging_index\"\n",
    ")"
   ]
  },
  {
   "cell_type": "code",
   "execution_count": 48,
   "id": "b32265f2-0247-42df-9abe-97d52f69edcf",
   "metadata": {
    "height": 98,
    "tags": []
   },
   "outputs": [],
   "source": [
    "from utils import get_automerging_query_engine\n",
    "\n",
    "automerging_query_engine = get_automerging_query_engine(\n",
    "    automerging_index,\n",
    ")"
   ]
  },
  {
   "cell_type": "code",
   "execution_count": 49,
   "id": "918ed568-220e-4c7c-aa60-cfa58ef1fcbd",
   "metadata": {
    "height": 81,
    "tags": []
   },
   "outputs": [
    {
     "name": "stdout",
     "output_type": "stream",
     "text": [
      "The fine for obstructing the work of RERA employees is not specified in the provided context information.\n"
     ]
    }
   ],
   "source": [
    "auto_merging_response = automerging_query_engine.query(\n",
    "    \"How much is the fine for obstructing the work of RERA employees?\"\n",
    ")\n",
    "print(str(auto_merging_response))"
   ]
  },
  {
   "cell_type": "code",
   "execution_count": 50,
   "id": "b073a5fe",
   "metadata": {},
   "outputs": [
    {
     "name": "stdout",
     "output_type": "stream",
     "text": [
      "The fine for a person who is not registered on the roll is described as a fee in Dirhams.\n"
     ]
    }
   ],
   "source": [
    "auto_merging_response = automerging_query_engine.query(\n",
    "    \"How much is the fine for the person who is not registered on the roll?\"\n",
    ")\n",
    "print(str(auto_merging_response))"
   ]
  },
  {
   "cell_type": "code",
   "execution_count": 51,
   "id": "db4f18a9-7b8a-4ae2-ab11-3a6a941a5afc",
   "metadata": {
    "height": 81,
    "tags": []
   },
   "outputs": [],
   "source": [
    "tru.reset_database()\n",
    "\n",
    "tru_recorder_automerging = get_prebuilt_trulens_recorder(automerging_query_engine,\n",
    "                                                         app_id=\"Automerging Query Engine\")"
   ]
  },
  {
   "cell_type": "code",
   "execution_count": 52,
   "id": "99cc2cfe-7096-4fa0-aa72-094bebac35a3",
   "metadata": {
    "height": 98,
    "tags": []
   },
   "outputs": [
    {
     "name": "stdout",
     "output_type": "stream",
     "text": [
      "How much is the fine for the person who is not registered on the roll?\n",
      "The fine for a person who is not registered on the roll is specified as a fee in Dirhams.\n",
      "How much is the fine for obstructing the work of RERA employees?\n",
      "The fine for obstructing the work of RERA employees is 50,000 Dirhams.\n",
      "How much is the fine for Failure to comply with the obligations stipulated in Article (16) of this Resolution?\n",
      "The fine for failure to comply with the obligations stipulated in Article (16) of this Resolution is not less than one hundred thousand Dirhams (AED 100,000.00).\n",
      "What is  Law No. (6) of 2019 Concerning Ownership of Jointly Owned Real Property in the Emirate of Dubai all about?\n",
      "Law No. (6) of 2019 Concerning Ownership of Jointly Owned Real Property in the Emirate of Dubai is a legal document that defines regulations related to jointly owned real property in Dubai. It outlines the rights and responsibilities of individuals or entities who own property jointly in the Emirate of Dubai.\n",
      "> Merging 1 nodes into parent node.\n",
      "> Parent node id: 2bb54a84-3126-4475-bea2-45b383e69018.\n",
      "> Parent node text: Chapter III \n",
      "Tenancy Regulating Legislations\n",
      "\n",
      "> Merging 1 nodes into parent node.\n",
      "> Parent node id: c62d6f80-5fbb-4241-a09a-53df54910ab9.\n",
      "> Parent node text: Chapter III \n",
      "Tenancy Regulating Legislations\n",
      "\n",
      "What is Article(3) Scope of Application for Law No.(6)\n",
      "For Law No. (6), Article (3) specifies that the provisions of the law apply to the Land Department established according to a specific Declaration issued on 24 January 1960.\n",
      "What is Article(4) for Jointly Owned Real Property Register for Law No.(6)\n",
      "Article (4) for Jointly Owned Real Property Register for Law No. (6) specifies that the Dubai Land Department (DLD) is responsible for maintaining a special register of Jointly Owned Real Property. This register includes details of the land plots owned by Developers on which Jointly Owned Real Property are to be constructed.\n",
      "> Merging 3 nodes into parent node.\n",
      "> Parent node id: 064e0708-5a97-4f81-b67c-882a35f33432.\n",
      "> Parent node text: 6Regulation No. ( 3) of 2006  Determining Areas for Ownership by Non-UAE Nationals of\n",
      "Real Proper...\n",
      "\n",
      "> Merging 1 nodes into parent node.\n",
      "> Parent node id: b96453c7-b8fd-4871-a03e-20f10b8cf617.\n",
      "> Parent node text: 6Regulation No. ( 3) of 2006  Determining Areas for Ownership by Non-UAE Nationals of\n",
      "Real Proper...\n",
      "\n",
      "What is Article (5) for Ownership Rules\n",
      "Article (5) for Ownership Rules states that the rules and conditions specified in Law No. (7) of 2006 will be applicable to the ownership of Jointly Owned Real Property.\n",
      "What is Jointly Owned Real Property Title Deeds Article (6)\n",
      "Jointly Owned Real Property Title Deeds Article (6) states that the Plans, Master Community Declaration, Statute, and Building Management Regulation are considered part of the title deed of Jointly Owned Real Property, with the Dubai Land Department (DLD) responsible for maintaining an original copy of each of these documents.\n",
      "What is Components of Common Parts Article (7)  of Law No. (6)\n",
      "The Components of Common Parts Article (7) of Law No. (6) include the structural components of the Jointly Owned Real Property, such as main supports, foundations, columns, structural walls, ceilings, ceiling joists, staircases, stairwells, fa\u0000ades, and roofs. Additionally, it encompasses thresholds, halls, parking aisles, entrances, emergency exits, and windows in external walls unless otherwise specified on the Site Plan.\n",
      "> Merging 5 nodes into parent node.\n",
      "> Parent node id: 0705d844-02ba-4417-931c-83e33288c77c.\n",
      "> Parent node text: 1 \n",
      "  \n",
      "Decree No (43) for 2013 regarding the  \n",
      "Determination of the Increase in R ent for Properti...\n",
      "\n",
      "> Merging 3 nodes into parent node.\n",
      "> Parent node id: cec89d70-5a74-40a4-bd2f-a95ada10f89e.\n",
      "> Parent node text: 20 \n",
      "Tenancy Guide \n",
      " \n",
      " Decree No. (43) of 2013 \n",
      "Determining Rent Increases for Real Property \n",
      "in t...\n",
      "\n",
      "> Merging 1 nodes into parent node.\n",
      "> Parent node id: 5c89c971-b054-4b36-9dac-8a043a46621e.\n",
      "> Parent node text: 70Commencement and Publication\n",
      "Article (16)\n",
      "This Law comes into force on the day on which it is i...\n",
      "\n",
      "> Merging 1 nodes into parent node.\n",
      "> Parent node id: 93eb3db1-5d3d-4080-bbc6-f769ae432c99.\n",
      "> Parent node text: 1 \n",
      "  \n",
      "Decree No (43) for 2013 regarding the  \n",
      "Determination of the Increase in R ent for Properti...\n",
      "\n",
      "> Merging 1 nodes into parent node.\n",
      "> Parent node id: cb0e9bfb-ad13-47b8-b496-01c3d88e7fc0.\n",
      "> Parent node text: 20 \n",
      "Tenancy Guide \n",
      " \n",
      " Decree No. (43) of 2013 \n",
      "Determining Rent Increases for Real Property \n",
      "in t...\n",
      "\n",
      "> Merging 1 nodes into parent node.\n",
      "> Parent node id: 6bc58301-c876-4d23-9678-81c187018ccd.\n",
      "> Parent node text: 70Commencement and Publication\n",
      "Article (16)\n",
      "This Law comes into force on the day on which it is i...\n",
      "\n",
      "Which law talks about rental increase decree for properties in Emirates Dubai?\n",
      "Law No (26) for 2007 regarding Regulation the Relationship between Landlords and Tenants of Properties in the Emirate of Dubai and its amendments.\n",
      "> Merging 5 nodes into parent node.\n",
      "> Parent node id: 0705d844-02ba-4417-931c-83e33288c77c.\n",
      "> Parent node text: 1 \n",
      "  \n",
      "Decree No (43) for 2013 regarding the  \n",
      "Determination of the Increase in R ent for Properti...\n",
      "\n",
      "> Merging 1 nodes into parent node.\n",
      "> Parent node id: 5c89c971-b054-4b36-9dac-8a043a46621e.\n",
      "> Parent node text: 70Commencement and Publication\n",
      "Article (16)\n",
      "This Law comes into force on the day on which it is i...\n",
      "\n",
      "> Merging 1 nodes into parent node.\n",
      "> Parent node id: 93eb3db1-5d3d-4080-bbc6-f769ae432c99.\n",
      "> Parent node text: 1 \n",
      "  \n",
      "Decree No (43) for 2013 regarding the  \n",
      "Determination of the Increase in R ent for Properti...\n",
      "\n",
      "> Merging 1 nodes into parent node.\n",
      "> Parent node id: 6bc58301-c876-4d23-9678-81c187018ccd.\n",
      "> Parent node text: 70Commencement and Publication\n",
      "Article (16)\n",
      "This Law comes into force on the day on which it is i...\n",
      "\n",
      "What is Article (1) for Percentage of increase for rental increase decree for properties in Emirates Dubai?\n",
      "Article (1) for Percentage of increase for rental increase decree for properties in Emirates Dubai states that the maximum rent increase percentage for properties in the Emirate of Dubai is determined at the renewal of the lease. The percentage increase varies based on the comparison of the current rent to the average similar rent, ranging from no increase if the rent is less than 10% of the average similar rent to a 20% increase if the rent is less than 40% of the average similar rent.\n",
      "What does Article (2) for Scope of Application says about?\n",
      "Article (2) for Scope of Application specifies the entities to which the Decree applies in the Emirate of Dubai, including landlords whether private or public, in special development zones and free zones like Dubai International Financial Centre.\n",
      "What does the Article (3) realtes to?\n",
      "Article (3) relates to establishing a specialized judicial system to hear Rental Disputes and developing the procedure for determining such disputes in order to support sustainable development in the Emirate and achieve social and economic stability for individuals in the Real Property rental sector and related sectors.\n",
      "> Merging 6 nodes into parent node.\n",
      "> Parent node id: 0705d844-02ba-4417-931c-83e33288c77c.\n",
      "> Parent node text: 1 \n",
      "  \n",
      "Decree No (43) for 2013 regarding the  \n",
      "Determination of the Increase in R ent for Properti...\n",
      "\n",
      "> Merging 1 nodes into parent node.\n",
      "> Parent node id: 5c89c971-b054-4b36-9dac-8a043a46621e.\n",
      "> Parent node text: 70Commencement and Publication\n",
      "Article (16)\n",
      "This Law comes into force on the day on which it is i...\n",
      "\n",
      "> Merging 1 nodes into parent node.\n",
      "> Parent node id: 93eb3db1-5d3d-4080-bbc6-f769ae432c99.\n",
      "> Parent node text: 1 \n",
      "  \n",
      "Decree No (43) for 2013 regarding the  \n",
      "Determination of the Increase in R ent for Properti...\n",
      "\n",
      "> Merging 1 nodes into parent node.\n",
      "> Parent node id: 6bc58301-c876-4d23-9678-81c187018ccd.\n",
      "> Parent node text: 70Commencement and Publication\n",
      "Article (16)\n",
      "This Law comes into force on the day on which it is i...\n",
      "\n",
      "What is Article (3) for rental increase decree?\n",
      "Article (3) for the rental increase decree focuses on determining the average similar rent according to the \"Rental Index in the Emirate of Dubai\" approved by the Real Estate Regulatory Agency.\n",
      "What is tenancy all about?\n",
      "Tenancy involves a contract where the Landlord allows the Tenant to use Real Property for a specific purpose, over a specific term, in exchange for a specific consideration. It also includes the concept of sub-tenancy, where a sub-tenant is granted use of the property by the Tenant through a separate contract. Additionally, tenancy involves the payment of rent by the Tenant as specified in the Tenancy Contract, and the communication of notices between parties through written notifications sent by approved means.\n",
      "> Merging 1 nodes into parent node.\n",
      "> Parent node id: d1a7f9c9-2608-4b1d-a9f5-0db9d3999fc8.\n",
      "> Parent node text: Law No. (8) of 2007\n",
      "Concerning Escrow Accounts for Real\n",
      "Property Development in\n",
      "the Emirate of Dubai\n",
      "\n",
      "> Merging 1 nodes into parent node.\n",
      "> Parent node id: 170193b7-6ca2-43d8-8556-a0bd7085594d.\n",
      "> Parent node text: Executive Council Resolution No. (37) of 2015 \n",
      "Regulating the Real Property\n",
      "Valuation Profession ...\n",
      "\n",
      "> Merging 1 nodes into parent node.\n",
      "> Parent node id: bc244315-2452-4027-a87d-befa81120385.\n",
      "> Parent node text: Resolution No. (14) of 2015\n",
      "Adding Land to the Areas for Ownership\n",
      "by Non-UAE\n",
      "Nationals of Real P...\n",
      "\n",
      "> Merging 1 nodes into parent node.\n",
      "> Parent node id: 3fa35f00-8383-42db-b075-d80595e887f7.\n",
      "> Parent node text: 234\n",
      "Resolution No. (18) of 2019\n",
      "Adding Land to the Areas for Ownership by \n",
      "Non-UAE Nationals of\n",
      "R...\n",
      "\n",
      "> Merging 1 nodes into parent node.\n",
      "> Parent node id: aea5e548-0a4b-4a07-bc0f-77e06b87a320.\n",
      "> Parent node text: Law No. (8) of 2007\n",
      "Concerning Escrow Accounts for Real\n",
      "Property Development in\n",
      "the Emirate of Dubai\n",
      "\n",
      "> Merging 1 nodes into parent node.\n",
      "> Parent node id: 9f49b4dc-35a9-4a0d-9ea0-baafd6c6b570.\n",
      "> Parent node text: Executive Council Resolution No. (37) of 2015 \n",
      "Regulating the Real Property\n",
      "Valuation Profession ...\n",
      "\n",
      "> Merging 1 nodes into parent node.\n",
      "> Parent node id: 3cbf7204-3c9e-4315-aafe-be8bad71ff15.\n",
      "> Parent node text: Resolution No. (14) of 2015\n",
      "Adding Land to the Areas for Ownership\n",
      "by Non-UAE\n",
      "Nationals of Real P...\n",
      "\n",
      "> Merging 1 nodes into parent node.\n",
      "> Parent node id: 3cff35e4-ab28-4ca2-901e-fbf96e1ad18d.\n",
      "> Parent node text: 234\n",
      "Resolution No. (18) of 2019\n",
      "Adding Land to the Areas for Ownership by \n",
      "Non-UAE Nationals of\n",
      "R...\n",
      "\n",
      "What is Ejari Mechanism in Dubai?\n",
      "EJARI Mechanism in Dubai involves the mandatory registration of tenancy contracts through an online program developed by RERA. It aims to connect all parties involved in the property lease and management sector, including licensed companies, property owners, landlords, and legal representatives, enabling them to register and issue contracts. Additionally, management contracts between property owners and licensed real estate companies are also registered through EJARI.\n",
      "> Merging 1 nodes into parent node.\n",
      "> Parent node id: e4f5499a-3fde-4118-b77b-5d43a5006691.\n",
      "> Parent node text: Chapter I \n",
      "EJARI Program\n",
      "\n",
      "> Merging 1 nodes into parent node.\n",
      "> Parent node id: 8f4c3b52-d4f7-412b-98aa-31ab905cc256.\n",
      "> Parent node text: Chapter I \n",
      "EJARI Program\n",
      "\n",
      "What are the documents required for registration in Ejari?\n",
      "The documents required for registration in Ejari are a passport copy and a copy of the title deed of any owned property.\n",
      "> Merging 1 nodes into parent node.\n",
      "> Parent node id: c82ecfd4-745e-4980-81d0-533f68d26a71.\n",
      "> Parent node text: Chapter II \n",
      "How to Register Lease Contracts \n",
      "with RERA\n",
      "\n",
      "> Merging 3 nodes into parent node.\n",
      "> Parent node id: 5d315efe-1b4c-43ee-a693-3de6c1c49871.\n",
      "> Parent node text: 13 \n",
      "How to Register  \n",
      " \n",
      " \n",
      "   \n",
      " \n",
      " \n",
      "  \n",
      " \n",
      " \n",
      "  \n",
      " \n",
      " 7.Reading the contract clauses to identify the obl...\n",
      "\n",
      "> Merging 1 nodes into parent node.\n",
      "> Parent node id: 9d5186df-d331-4fb0-b741-495ef93640cd.\n",
      "> Parent node text: Chapter II \n",
      "How to Register Lease Contracts \n",
      "with RERA\n",
      "\n",
      "> Merging 1 nodes into parent node.\n",
      "> Parent node id: 6ccaee9e-0b28-4967-a2d3-7b639e0f80bb.\n",
      "> Parent node text: 13 \n",
      "How to Register  \n",
      " \n",
      " \n",
      "   \n",
      " \n",
      " \n",
      "  \n",
      " \n",
      " \n",
      "  \n",
      " \n",
      " 7.Reading the contract clauses to identify the obl...\n",
      "\n",
      "How to Register Lease Contracts with RERA\n",
      "Lease Contracts related to Real Property subject to the provisions of the Law and any amendments must be registered with RERA. Judicial authorities, Government departments, authorities, and corporations are not allowed to address any dispute or claim related to a Lease Contract unless it is registered with RERA as per the relevant rules and regulations.\n",
      "> Merging 1 nodes into parent node.\n",
      "> Parent node id: 2bb54a84-3126-4475-bea2-45b383e69018.\n",
      "> Parent node text: Chapter III \n",
      "Tenancy Regulating Legislations\n",
      "\n",
      "> Merging 1 nodes into parent node.\n",
      "> Parent node id: c62d6f80-5fbb-4241-a09a-53df54910ab9.\n",
      "> Parent node text: Chapter III \n",
      "Tenancy Regulating Legislations\n",
      "\n",
      "What is Tenancy Regulating Legislations?\n",
      "Tenancy Regulating Legislations refer to the laws and regulations that govern the relationship between landlords and tenants regarding the leasing of real property.\n",
      "> Merging 1 nodes into parent node.\n",
      "> Parent node id: 2bb54a84-3126-4475-bea2-45b383e69018.\n",
      "> Parent node text: Chapter III \n",
      "Tenancy Regulating Legislations\n",
      "\n",
      "> Merging 1 nodes into parent node.\n",
      "> Parent node id: c62d6f80-5fbb-4241-a09a-53df54910ab9.\n",
      "> Parent node text: Chapter III \n",
      "Tenancy Regulating Legislations\n",
      "\n",
      "How many articles are there in Tenancy regulating legislations?\n",
      "There are two articles in the Tenancy regulating legislations.\n",
      "> Merging 1 nodes into parent node.\n",
      "> Parent node id: 8ee0d366-6b71-426a-958a-2412e5e097c3.\n",
      "> Parent node text: Law No. (33) of 2008\n",
      "Amending Law No. (26) of 2007\n",
      "Regulating the Relationship between\n",
      "Landlords ...\n",
      "\n",
      "> Merging 1 nodes into parent node.\n",
      "> Parent node id: d78ad20c-897e-4bfb-bb51-0871e3ec8124.\n",
      "> Parent node text: Law No. (33) of 2008\n",
      "Amending Law No. (26) of 2007\n",
      "Regulating the Relationship between\n",
      "Landlords ...\n",
      "\n",
      "How to regulate the relationship between Landlords and Tenants in the Emirates of Dubai?\n",
      "The relationship between landlords and tenants in the Emirates of Dubai is regulated by Law No. (33) of 2008, which amends Law No. (26) of 2007.\n",
      "> Merging 4 nodes into parent node.\n",
      "> Parent node id: 37cd3e88-2244-4f73-b9bb-03777f385b1b.\n",
      "> Parent node text: 42 \n",
      "Tenancy GuideRent Indexes \n",
      "About Property Rent Index \n",
      "The Property Rent Index in the Emirate ...\n",
      "\n",
      "> Merging 1 nodes into parent node.\n",
      "> Parent node id: e4870666-3bb8-486b-abf5-77594f6f26ba.\n",
      "> Parent node text: Chapter IV \n",
      "Rent Indexes\n",
      "\n",
      "> Merging 1 nodes into parent node.\n",
      "> Parent node id: 911d63d2-5403-4e1a-81c9-b4e1ac69ecc0.\n",
      "> Parent node text: 43 \n",
      "Rent IndexesRent Increase Calculator Service \n",
      "Login Form: \n",
      "Visiting the website: \n",
      "www.dubaila...\n",
      "\n",
      "> Merging 1 nodes into parent node.\n",
      "> Parent node id: 5c2cb146-164d-4782-a023-bf6cecd02ac4.\n",
      "> Parent node text: 42 \n",
      "Tenancy GuideRent Indexes \n",
      "About Property Rent Index \n",
      "The Property Rent Index in the Emirate ...\n",
      "\n",
      "> Merging 1 nodes into parent node.\n",
      "> Parent node id: c2340e15-7cc9-4901-b807-716534a42c71.\n",
      "> Parent node text: Chapter IV \n",
      "Rent Indexes\n",
      "\n",
      "> Merging 1 nodes into parent node.\n",
      "> Parent node id: 82f6cbac-3fe4-4a2a-814e-bec82a0b2810.\n",
      "> Parent node text: 43 \n",
      "Rent IndexesRent Increase Calculator Service \n",
      "Login Form: \n",
      "Visiting the website: \n",
      "www.dubaila...\n",
      "\n",
      "What is rent Index?\n",
      "The rent index is a tool created by RERA in the Emirate of Dubai to provide guidance on determining rent values for properties of various uses in different regions. It is used as a reference in case of disputes between landlords and tenants to establish rental rates and rates of increase in rental values.\n",
      "> Merging 4 nodes into parent node.\n",
      "> Parent node id: 4cb4343c-0b4b-44fb-ada3-30f2e6404687.\n",
      "> Parent node text: 44 \n",
      "Tenancy Guide Demonstration of Calculating the Increase in Property Rent \n",
      "Pursuant to Decree ...\n",
      "\n",
      "> Merging 1 nodes into parent node.\n",
      "> Parent node id: 911d63d2-5403-4e1a-81c9-b4e1ac69ecc0.\n",
      "> Parent node text: 43 \n",
      "Rent IndexesRent Increase Calculator Service \n",
      "Login Form: \n",
      "Visiting the website: \n",
      "www.dubaila...\n",
      "\n",
      "> Merging 1 nodes into parent node.\n",
      "> Parent node id: 5426fc81-bd59-4bd3-81c9-ed9b3a8c821c.\n",
      "> Parent node text: 44 \n",
      "Tenancy Guide Demonstration of Calculating the Increase in Property Rent \n",
      "Pursuant to Decree ...\n",
      "\n",
      "> Merging 1 nodes into parent node.\n",
      "> Parent node id: 82f6cbac-3fe4-4a2a-814e-bec82a0b2810.\n",
      "> Parent node text: 43 \n",
      "Rent IndexesRent Increase Calculator Service \n",
      "Login Form: \n",
      "Visiting the website: \n",
      "www.dubaila...\n",
      "\n",
      "What is Rent Increase Calculator?\n",
      "The Rent Increase Calculator is a tool designed to assist in calculating rates of rent increase and identifying rent values in different areas.\n",
      "> Merging 3 nodes into parent node.\n",
      "> Parent node id: 37cd3e88-2244-4f73-b9bb-03777f385b1b.\n",
      "> Parent node text: 42 \n",
      "Tenancy GuideRent Indexes \n",
      "About Property Rent Index \n",
      "The Property Rent Index in the Emirate ...\n",
      "\n",
      "> Merging 1 nodes into parent node.\n",
      "> Parent node id: 911d63d2-5403-4e1a-81c9-b4e1ac69ecc0.\n",
      "> Parent node text: 43 \n",
      "Rent IndexesRent Increase Calculator Service \n",
      "Login Form: \n",
      "Visiting the website: \n",
      "www.dubaila...\n",
      "\n",
      "> Merging 1 nodes into parent node.\n",
      "> Parent node id: 5c2cb146-164d-4782-a023-bf6cecd02ac4.\n",
      "> Parent node text: 42 \n",
      "Tenancy GuideRent Indexes \n",
      "About Property Rent Index \n",
      "The Property Rent Index in the Emirate ...\n",
      "\n",
      "> Merging 1 nodes into parent node.\n",
      "> Parent node id: 82f6cbac-3fe4-4a2a-814e-bec82a0b2810.\n",
      "> Parent node text: 43 \n",
      "Rent IndexesRent Increase Calculator Service \n",
      "Login Form: \n",
      "Visiting the website: \n",
      "www.dubaila...\n",
      "\n",
      "How to find the best tenancy option in Dubai?\n",
      "To find the best tenancy option in Dubai, it is recommended to utilize the EJARI online program developed by RERA. This program is designed for recording tenancy contracts for all types of property in the Emirate of Dubai, ensuring compliance with regulations and providing a structured process for real estate lease and management. By using EJARI, tenants can benefit from upgraded real estate services, registration, and regulation, ultimately helping in selecting the most suitable tenancy option in Dubai.\n"
     ]
    },
    {
     "name": "stderr",
     "output_type": "stream",
     "text": [
      "Run of run in <Thread(TP.submit with debug timeout_19, started 123146234638336)> timed out after 600.0 second(s).\n",
      "None\n",
      "exception calling callback for <Future at 0x7fc8a9d56cd0 state=finished raised TimeoutError>\n",
      "Traceback (most recent call last):\n",
      "  File \"/Users/tarique/anaconda3/envs/rag/lib/python3.9/concurrent/futures/_base.py\", line 330, in _invoke_callbacks\n",
      "    callback(self)\n",
      "  File \"/Users/tarique/anaconda3/envs/rag/lib/python3.9/site-packages/trulens_eval/app.py\", line 1168, in _add_future_feedback\n",
      "    res = future_result.result()\n",
      "  File \"/Users/tarique/anaconda3/envs/rag/lib/python3.9/concurrent/futures/_base.py\", line 439, in result\n",
      "    return self.__get_result()\n",
      "  File \"/Users/tarique/anaconda3/envs/rag/lib/python3.9/concurrent/futures/_base.py\", line 391, in __get_result\n",
      "    raise self._exception\n",
      "  File \"/Users/tarique/anaconda3/envs/rag/lib/python3.9/concurrent/futures/thread.py\", line 58, in run\n",
      "    result = self.fn(*self.args, **self.kwargs)\n",
      "  File \"/Users/tarique/anaconda3/envs/rag/lib/python3.9/site-packages/trulens_eval/utils/python.py\", line 374, in _future_target_wrapper\n",
      "    return func(*args, **kwargs)\n",
      "  File \"/Users/tarique/anaconda3/envs/rag/lib/python3.9/site-packages/trulens_eval/utils/threading.py\", line 168, in _run_with_timeout\n",
      "    raise e\n",
      "  File \"/Users/tarique/anaconda3/envs/rag/lib/python3.9/site-packages/trulens_eval/utils/threading.py\", line 159, in _run_with_timeout\n",
      "    res: T = fut.result(timeout=timeout)\n",
      "  File \"/Users/tarique/anaconda3/envs/rag/lib/python3.9/concurrent/futures/_base.py\", line 448, in result\n",
      "    raise TimeoutError()\n",
      "concurrent.futures._base.TimeoutError\n",
      "Validation error: 1 validation error for Rating\n",
      "rating\n",
      "  Value error, Rating must be between 0 and 10 [type=value_error, input_value=33, input_type=int]\n",
      "    For further information visit https://errors.pydantic.dev/2.6/v/value_error\n"
     ]
    },
    {
     "name": "stderr",
     "output_type": "stream",
     "text": [
      "Exception in thread Thread-4:\n",
      "Traceback (most recent call last):\n",
      "  File \"/Users/tarique/anaconda3/envs/rag/lib/python3.9/threading.py\", line 980, in _bootstrap_inner\n",
      "    self.run()\n",
      "  File \"/Users/tarique/anaconda3/envs/rag/lib/python3.9/site-packages/ipykernel/ipkernel.py\", line 761, in run_closure\n",
      "    _threading_Thread_run(self)\n",
      "  File \"/Users/tarique/anaconda3/envs/rag/lib/python3.9/threading.py\", line 917, in run\n",
      "    self._target(*self._args, **self._kwargs)\n",
      "  File \"/Users/tarique/anaconda3/envs/rag/lib/python3.9/site-packages/trulens_eval/utils/python.py\", line 374, in _future_target_wrapper\n",
      "    return func(*args, **kwargs)\n",
      "  File \"/Users/tarique/anaconda3/envs/rag/lib/python3.9/site-packages/trulens_eval/app.py\", line 559, in _manage_pending_feedback_results\n",
      "    record.wait_for_feedback_results()\n",
      "  File \"/Users/tarique/anaconda3/envs/rag/lib/python3.9/site-packages/trulens_eval/schema.py\", line 277, in wait_for_feedback_results\n",
      "    feedback_result = future_result.result()\n",
      "  File \"/Users/tarique/anaconda3/envs/rag/lib/python3.9/concurrent/futures/_base.py\", line 446, in result\n",
      "    return self.__get_result()\n",
      "  File \"/Users/tarique/anaconda3/envs/rag/lib/python3.9/concurrent/futures/_base.py\", line 391, in __get_result\n",
      "    raise self._exception\n",
      "  File \"/Users/tarique/anaconda3/envs/rag/lib/python3.9/concurrent/futures/_base.py\", line 330, in _invoke_callbacks\n",
      "    callback(self)\n",
      "  File \"/Users/tarique/anaconda3/envs/rag/lib/python3.9/site-packages/trulens_eval/app.py\", line 1168, in _add_future_feedback\n",
      "    res = future_result.result()\n",
      "  File \"/Users/tarique/anaconda3/envs/rag/lib/python3.9/concurrent/futures/_base.py\", line 439, in result\n",
      "    return self.__get_result()\n",
      "  File \"/Users/tarique/anaconda3/envs/rag/lib/python3.9/concurrent/futures/_base.py\", line 391, in __get_result\n",
      "    raise self._exception\n",
      "  File \"/Users/tarique/anaconda3/envs/rag/lib/python3.9/concurrent/futures/thread.py\", line 58, in run\n",
      "    result = self.fn(*self.args, **self.kwargs)\n",
      "  File \"/Users/tarique/anaconda3/envs/rag/lib/python3.9/site-packages/trulens_eval/utils/python.py\", line 374, in _future_target_wrapper\n",
      "    return func(*args, **kwargs)\n",
      "  File \"/Users/tarique/anaconda3/envs/rag/lib/python3.9/site-packages/trulens_eval/utils/threading.py\", line 168, in _run_with_timeout\n",
      "    raise e\n",
      "  File \"/Users/tarique/anaconda3/envs/rag/lib/python3.9/site-packages/trulens_eval/utils/threading.py\", line 159, in _run_with_timeout\n",
      "    res: T = fut.result(timeout=timeout)\n",
      "  File \"/Users/tarique/anaconda3/envs/rag/lib/python3.9/concurrent/futures/_base.py\", line 448, in result\n",
      "    raise TimeoutError()\n",
      "concurrent.futures._base.TimeoutError\n"
     ]
    }
   ],
   "source": [
    "for question in eval_questions:\n",
    "    with tru_recorder_automerging as recording:\n",
    "        response = automerging_query_engine.query(question)\n",
    "        print(question)\n",
    "        print(response)"
   ]
  },
  {
   "cell_type": "code",
   "execution_count": 53,
   "id": "5404dec1-60ca-42fa-ac13-793a5423aa64",
   "metadata": {
    "height": 30,
    "tags": []
   },
   "outputs": [
    {
     "data": {
      "text/html": [
       "<div>\n",
       "<style scoped>\n",
       "    .dataframe tbody tr th:only-of-type {\n",
       "        vertical-align: middle;\n",
       "    }\n",
       "\n",
       "    .dataframe tbody tr th {\n",
       "        vertical-align: top;\n",
       "    }\n",
       "\n",
       "    .dataframe thead th {\n",
       "        text-align: right;\n",
       "    }\n",
       "</style>\n",
       "<table border=\"1\" class=\"dataframe\">\n",
       "  <thead>\n",
       "    <tr style=\"text-align: right;\">\n",
       "      <th></th>\n",
       "      <th>Groundedness</th>\n",
       "      <th>Answer Relevance</th>\n",
       "      <th>Context Relevance</th>\n",
       "      <th>latency</th>\n",
       "      <th>total_cost</th>\n",
       "    </tr>\n",
       "    <tr>\n",
       "      <th>app_id</th>\n",
       "      <th></th>\n",
       "      <th></th>\n",
       "      <th></th>\n",
       "      <th></th>\n",
       "      <th></th>\n",
       "    </tr>\n",
       "  </thead>\n",
       "  <tbody>\n",
       "    <tr>\n",
       "      <th>Automerging Query Engine</th>\n",
       "      <td>0.784028</td>\n",
       "      <td>0.979167</td>\n",
       "      <td>0.70625</td>\n",
       "      <td>8.375</td>\n",
       "      <td>0.000715</td>\n",
       "    </tr>\n",
       "  </tbody>\n",
       "</table>\n",
       "</div>"
      ],
      "text/plain": [
       "                          Groundedness  Answer Relevance  Context Relevance  \\\n",
       "app_id                                                                        \n",
       "Automerging Query Engine      0.784028          0.979167            0.70625   \n",
       "\n",
       "                          latency  total_cost  \n",
       "app_id                                         \n",
       "Automerging Query Engine    8.375    0.000715  "
      ]
     },
     "execution_count": 53,
     "metadata": {},
     "output_type": "execute_result"
    }
   ],
   "source": [
    "tru.get_leaderboard(app_ids=[])"
   ]
  },
  {
   "cell_type": "code",
   "execution_count": 54,
   "id": "0f545d41-0d98-446f-8214-8b59bef08d6c",
   "metadata": {
    "height": 47,
    "tags": []
   },
   "outputs": [
    {
     "name": "stdout",
     "output_type": "stream",
     "text": [
      "Starting dashboard ...\n",
      "Config file already exists. Skipping writing process.\n",
      "Credentials file already exists. Skipping writing process.\n",
      "Dashboard already running at path:   Network URL: http://192.168.70.101:8501\n",
      "\n"
     ]
    },
    {
     "data": {
      "text/plain": [
       "<Popen: returncode: None args: ['streamlit', 'run', '--server.headless=True'...>"
      ]
     },
     "execution_count": 54,
     "metadata": {},
     "output_type": "execute_result"
    }
   ],
   "source": [
    "# launches on http://localhost:8501/\n",
    "tru.run_dashboard()"
   ]
  }
 ],
 "metadata": {
  "kernelspec": {
   "display_name": "Python 3 (ipykernel)",
   "language": "python",
   "name": "python3"
  },
  "language_info": {
   "codemirror_mode": {
    "name": "ipython",
    "version": 3
   },
   "file_extension": ".py",
   "mimetype": "text/x-python",
   "name": "python",
   "nbconvert_exporter": "python",
   "pygments_lexer": "ipython3",
   "version": "3.9.18"
  }
 },
 "nbformat": 4,
 "nbformat_minor": 5
}
